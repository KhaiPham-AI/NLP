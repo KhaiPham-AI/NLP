{
  "cells": [
    {
      "cell_type": "code",
      "execution_count": null,
      "id": "e3780326",
      "metadata": {
        "execution": {
          "iopub.execute_input": "2022-05-04T21:50:54.298946Z",
          "iopub.status.busy": "2022-05-04T21:50:54.298699Z",
          "iopub.status.idle": "2022-05-04T21:51:00.007810Z",
          "shell.execute_reply": "2022-05-04T21:51:00.007059Z"
        },
        "papermill": {
          "duration": 5.765806,
          "end_time": "2022-05-04T21:51:00.009937",
          "exception": false,
          "start_time": "2022-05-04T21:50:54.244131",
          "status": "completed"
        },
        "tags": [],
        "id": "e3780326"
      },
      "outputs": [],
      "source": [
        "import pandas as pd\n",
        "import numpy as np\n",
        "import re\n",
        "import nltk\n",
        "from nltk.corpus import stopwords\n",
        "from numpy import array\n",
        "from keras.preprocessing.text import one_hot\n",
        "from keras.preprocessing.sequence import pad_sequences\n",
        "from keras.models import Sequential\n",
        "from keras.layers import Activation, Dropout, Dense\n",
        "from keras.layers import Flatten\n",
        "from keras.layers import Conv1D\n",
        "from keras.layers import GlobalMaxPooling1D\n",
        "from keras.layers import LSTM\n",
        "from keras.layers import Embedding\n",
        "from sklearn.model_selection import train_test_split\n",
        "from keras.preprocessing.text import Tokenizer"
      ]
    },
    {
      "cell_type": "code",
      "execution_count": null,
      "id": "1d7d226c",
      "metadata": {
        "execution": {
          "iopub.execute_input": "2022-05-04T21:51:00.119974Z",
          "iopub.status.busy": "2022-05-04T21:51:00.119757Z",
          "iopub.status.idle": "2022-05-04T21:51:01.402742Z",
          "shell.execute_reply": "2022-05-04T21:51:01.402032Z"
        },
        "papermill": {
          "duration": 1.34012,
          "end_time": "2022-05-04T21:51:01.404851",
          "exception": false,
          "start_time": "2022-05-04T21:51:00.064731",
          "status": "completed"
        },
        "tags": [],
        "id": "1d7d226c"
      },
      "outputs": [],
      "source": [
        "# Dataset Import\n",
        "movie_reviews = pd.read_csv(\"/content/drive/MyDrive/NLP/GK/Data/IMDB Dataset.csv\")"
      ]
    },
    {
      "cell_type": "code",
      "execution_count": null,
      "id": "c5354be3",
      "metadata": {
        "execution": {
          "iopub.execute_input": "2022-05-04T21:51:01.513435Z",
          "iopub.status.busy": "2022-05-04T21:51:01.513187Z",
          "iopub.status.idle": "2022-05-04T21:51:01.531095Z",
          "shell.execute_reply": "2022-05-04T21:51:01.530333Z"
        },
        "papermill": {
          "duration": 0.075371,
          "end_time": "2022-05-04T21:51:01.534185",
          "exception": false,
          "start_time": "2022-05-04T21:51:01.458814",
          "status": "completed"
        },
        "tags": [],
        "id": "c5354be3",
        "outputId": "ae766bed-b909-4c75-e8e4-8bbeec1d2b53",
        "colab": {
          "base_uri": "https://localhost:8080/"
        }
      },
      "outputs": [
        {
          "output_type": "execute_result",
          "data": {
            "text/plain": [
              "False"
            ]
          },
          "metadata": {},
          "execution_count": 8
        }
      ],
      "source": [
        "# Check if Dataframe has null values\n",
        "movie_reviews.isnull().values.any()"
      ]
    },
    {
      "cell_type": "code",
      "execution_count": null,
      "id": "7e155085",
      "metadata": {
        "execution": {
          "iopub.execute_input": "2022-05-04T21:51:01.646258Z",
          "iopub.status.busy": "2022-05-04T21:51:01.646042Z",
          "iopub.status.idle": "2022-05-04T21:51:01.659425Z",
          "shell.execute_reply": "2022-05-04T21:51:01.658657Z"
        },
        "papermill": {
          "duration": 0.073033,
          "end_time": "2022-05-04T21:51:01.661195",
          "exception": false,
          "start_time": "2022-05-04T21:51:01.588162",
          "status": "completed"
        },
        "tags": [],
        "id": "7e155085",
        "outputId": "2465271a-6b29-428d-8831-13e6157292be",
        "colab": {
          "base_uri": "https://localhost:8080/",
          "height": 206
        }
      },
      "outputs": [
        {
          "output_type": "execute_result",
          "data": {
            "text/plain": [
              "                                              review sentiment\n",
              "0  One of the other reviewers has mentioned that ...  positive\n",
              "1  A wonderful little production. <br /><br />The...  positive\n",
              "2  I thought this was a wonderful way to spend ti...  positive\n",
              "3  Basically there's a family where a little boy ...  negative\n",
              "4  Petter Mattei's \"Love in the Time of Money\" is...  positive"
            ],
            "text/html": [
              "\n",
              "  <div id=\"df-f0a6bceb-0778-4a9a-b679-dc717a09ba27\" class=\"colab-df-container\">\n",
              "    <div>\n",
              "<style scoped>\n",
              "    .dataframe tbody tr th:only-of-type {\n",
              "        vertical-align: middle;\n",
              "    }\n",
              "\n",
              "    .dataframe tbody tr th {\n",
              "        vertical-align: top;\n",
              "    }\n",
              "\n",
              "    .dataframe thead th {\n",
              "        text-align: right;\n",
              "    }\n",
              "</style>\n",
              "<table border=\"1\" class=\"dataframe\">\n",
              "  <thead>\n",
              "    <tr style=\"text-align: right;\">\n",
              "      <th></th>\n",
              "      <th>review</th>\n",
              "      <th>sentiment</th>\n",
              "    </tr>\n",
              "  </thead>\n",
              "  <tbody>\n",
              "    <tr>\n",
              "      <th>0</th>\n",
              "      <td>One of the other reviewers has mentioned that ...</td>\n",
              "      <td>positive</td>\n",
              "    </tr>\n",
              "    <tr>\n",
              "      <th>1</th>\n",
              "      <td>A wonderful little production. &lt;br /&gt;&lt;br /&gt;The...</td>\n",
              "      <td>positive</td>\n",
              "    </tr>\n",
              "    <tr>\n",
              "      <th>2</th>\n",
              "      <td>I thought this was a wonderful way to spend ti...</td>\n",
              "      <td>positive</td>\n",
              "    </tr>\n",
              "    <tr>\n",
              "      <th>3</th>\n",
              "      <td>Basically there's a family where a little boy ...</td>\n",
              "      <td>negative</td>\n",
              "    </tr>\n",
              "    <tr>\n",
              "      <th>4</th>\n",
              "      <td>Petter Mattei's \"Love in the Time of Money\" is...</td>\n",
              "      <td>positive</td>\n",
              "    </tr>\n",
              "  </tbody>\n",
              "</table>\n",
              "</div>\n",
              "    <div class=\"colab-df-buttons\">\n",
              "\n",
              "  <div class=\"colab-df-container\">\n",
              "    <button class=\"colab-df-convert\" onclick=\"convertToInteractive('df-f0a6bceb-0778-4a9a-b679-dc717a09ba27')\"\n",
              "            title=\"Convert this dataframe to an interactive table.\"\n",
              "            style=\"display:none;\">\n",
              "\n",
              "  <svg xmlns=\"http://www.w3.org/2000/svg\" height=\"24px\" viewBox=\"0 -960 960 960\">\n",
              "    <path d=\"M120-120v-720h720v720H120Zm60-500h600v-160H180v160Zm220 220h160v-160H400v160Zm0 220h160v-160H400v160ZM180-400h160v-160H180v160Zm440 0h160v-160H620v160ZM180-180h160v-160H180v160Zm440 0h160v-160H620v160Z\"/>\n",
              "  </svg>\n",
              "    </button>\n",
              "\n",
              "  <style>\n",
              "    .colab-df-container {\n",
              "      display:flex;\n",
              "      gap: 12px;\n",
              "    }\n",
              "\n",
              "    .colab-df-convert {\n",
              "      background-color: #E8F0FE;\n",
              "      border: none;\n",
              "      border-radius: 50%;\n",
              "      cursor: pointer;\n",
              "      display: none;\n",
              "      fill: #1967D2;\n",
              "      height: 32px;\n",
              "      padding: 0 0 0 0;\n",
              "      width: 32px;\n",
              "    }\n",
              "\n",
              "    .colab-df-convert:hover {\n",
              "      background-color: #E2EBFA;\n",
              "      box-shadow: 0px 1px 2px rgba(60, 64, 67, 0.3), 0px 1px 3px 1px rgba(60, 64, 67, 0.15);\n",
              "      fill: #174EA6;\n",
              "    }\n",
              "\n",
              "    .colab-df-buttons div {\n",
              "      margin-bottom: 4px;\n",
              "    }\n",
              "\n",
              "    [theme=dark] .colab-df-convert {\n",
              "      background-color: #3B4455;\n",
              "      fill: #D2E3FC;\n",
              "    }\n",
              "\n",
              "    [theme=dark] .colab-df-convert:hover {\n",
              "      background-color: #434B5C;\n",
              "      box-shadow: 0px 1px 3px 1px rgba(0, 0, 0, 0.15);\n",
              "      filter: drop-shadow(0px 1px 2px rgba(0, 0, 0, 0.3));\n",
              "      fill: #FFFFFF;\n",
              "    }\n",
              "  </style>\n",
              "\n",
              "    <script>\n",
              "      const buttonEl =\n",
              "        document.querySelector('#df-f0a6bceb-0778-4a9a-b679-dc717a09ba27 button.colab-df-convert');\n",
              "      buttonEl.style.display =\n",
              "        google.colab.kernel.accessAllowed ? 'block' : 'none';\n",
              "\n",
              "      async function convertToInteractive(key) {\n",
              "        const element = document.querySelector('#df-f0a6bceb-0778-4a9a-b679-dc717a09ba27');\n",
              "        const dataTable =\n",
              "          await google.colab.kernel.invokeFunction('convertToInteractive',\n",
              "                                                    [key], {});\n",
              "        if (!dataTable) return;\n",
              "\n",
              "        const docLinkHtml = 'Like what you see? Visit the ' +\n",
              "          '<a target=\"_blank\" href=https://colab.research.google.com/notebooks/data_table.ipynb>data table notebook</a>'\n",
              "          + ' to learn more about interactive tables.';\n",
              "        element.innerHTML = '';\n",
              "        dataTable['output_type'] = 'display_data';\n",
              "        await google.colab.output.renderOutput(dataTable, element);\n",
              "        const docLink = document.createElement('div');\n",
              "        docLink.innerHTML = docLinkHtml;\n",
              "        element.appendChild(docLink);\n",
              "      }\n",
              "    </script>\n",
              "  </div>\n",
              "\n",
              "\n",
              "<div id=\"df-e9284904-2241-46e5-88cb-d295c17a5bee\">\n",
              "  <button class=\"colab-df-quickchart\" onclick=\"quickchart('df-e9284904-2241-46e5-88cb-d295c17a5bee')\"\n",
              "            title=\"Suggest charts\"\n",
              "            style=\"display:none;\">\n",
              "\n",
              "<svg xmlns=\"http://www.w3.org/2000/svg\" height=\"24px\"viewBox=\"0 0 24 24\"\n",
              "     width=\"24px\">\n",
              "    <g>\n",
              "        <path d=\"M19 3H5c-1.1 0-2 .9-2 2v14c0 1.1.9 2 2 2h14c1.1 0 2-.9 2-2V5c0-1.1-.9-2-2-2zM9 17H7v-7h2v7zm4 0h-2V7h2v10zm4 0h-2v-4h2v4z\"/>\n",
              "    </g>\n",
              "</svg>\n",
              "  </button>\n",
              "\n",
              "<style>\n",
              "  .colab-df-quickchart {\n",
              "      --bg-color: #E8F0FE;\n",
              "      --fill-color: #1967D2;\n",
              "      --hover-bg-color: #E2EBFA;\n",
              "      --hover-fill-color: #174EA6;\n",
              "      --disabled-fill-color: #AAA;\n",
              "      --disabled-bg-color: #DDD;\n",
              "  }\n",
              "\n",
              "  [theme=dark] .colab-df-quickchart {\n",
              "      --bg-color: #3B4455;\n",
              "      --fill-color: #D2E3FC;\n",
              "      --hover-bg-color: #434B5C;\n",
              "      --hover-fill-color: #FFFFFF;\n",
              "      --disabled-bg-color: #3B4455;\n",
              "      --disabled-fill-color: #666;\n",
              "  }\n",
              "\n",
              "  .colab-df-quickchart {\n",
              "    background-color: var(--bg-color);\n",
              "    border: none;\n",
              "    border-radius: 50%;\n",
              "    cursor: pointer;\n",
              "    display: none;\n",
              "    fill: var(--fill-color);\n",
              "    height: 32px;\n",
              "    padding: 0;\n",
              "    width: 32px;\n",
              "  }\n",
              "\n",
              "  .colab-df-quickchart:hover {\n",
              "    background-color: var(--hover-bg-color);\n",
              "    box-shadow: 0 1px 2px rgba(60, 64, 67, 0.3), 0 1px 3px 1px rgba(60, 64, 67, 0.15);\n",
              "    fill: var(--button-hover-fill-color);\n",
              "  }\n",
              "\n",
              "  .colab-df-quickchart-complete:disabled,\n",
              "  .colab-df-quickchart-complete:disabled:hover {\n",
              "    background-color: var(--disabled-bg-color);\n",
              "    fill: var(--disabled-fill-color);\n",
              "    box-shadow: none;\n",
              "  }\n",
              "\n",
              "  .colab-df-spinner {\n",
              "    border: 2px solid var(--fill-color);\n",
              "    border-color: transparent;\n",
              "    border-bottom-color: var(--fill-color);\n",
              "    animation:\n",
              "      spin 1s steps(1) infinite;\n",
              "  }\n",
              "\n",
              "  @keyframes spin {\n",
              "    0% {\n",
              "      border-color: transparent;\n",
              "      border-bottom-color: var(--fill-color);\n",
              "      border-left-color: var(--fill-color);\n",
              "    }\n",
              "    20% {\n",
              "      border-color: transparent;\n",
              "      border-left-color: var(--fill-color);\n",
              "      border-top-color: var(--fill-color);\n",
              "    }\n",
              "    30% {\n",
              "      border-color: transparent;\n",
              "      border-left-color: var(--fill-color);\n",
              "      border-top-color: var(--fill-color);\n",
              "      border-right-color: var(--fill-color);\n",
              "    }\n",
              "    40% {\n",
              "      border-color: transparent;\n",
              "      border-right-color: var(--fill-color);\n",
              "      border-top-color: var(--fill-color);\n",
              "    }\n",
              "    60% {\n",
              "      border-color: transparent;\n",
              "      border-right-color: var(--fill-color);\n",
              "    }\n",
              "    80% {\n",
              "      border-color: transparent;\n",
              "      border-right-color: var(--fill-color);\n",
              "      border-bottom-color: var(--fill-color);\n",
              "    }\n",
              "    90% {\n",
              "      border-color: transparent;\n",
              "      border-bottom-color: var(--fill-color);\n",
              "    }\n",
              "  }\n",
              "</style>\n",
              "\n",
              "  <script>\n",
              "    async function quickchart(key) {\n",
              "      const quickchartButtonEl =\n",
              "        document.querySelector('#' + key + ' button');\n",
              "      quickchartButtonEl.disabled = true;  // To prevent multiple clicks.\n",
              "      quickchartButtonEl.classList.add('colab-df-spinner');\n",
              "      try {\n",
              "        const charts = await google.colab.kernel.invokeFunction(\n",
              "            'suggestCharts', [key], {});\n",
              "      } catch (error) {\n",
              "        console.error('Error during call to suggestCharts:', error);\n",
              "      }\n",
              "      quickchartButtonEl.classList.remove('colab-df-spinner');\n",
              "      quickchartButtonEl.classList.add('colab-df-quickchart-complete');\n",
              "    }\n",
              "    (() => {\n",
              "      let quickchartButtonEl =\n",
              "        document.querySelector('#df-e9284904-2241-46e5-88cb-d295c17a5bee button');\n",
              "      quickchartButtonEl.style.display =\n",
              "        google.colab.kernel.accessAllowed ? 'block' : 'none';\n",
              "    })();\n",
              "  </script>\n",
              "</div>\n",
              "\n",
              "    </div>\n",
              "  </div>\n"
            ]
          },
          "metadata": {},
          "execution_count": 9
        }
      ],
      "source": [
        "# Display first 5 rows\n",
        "movie_reviews.head()"
      ]
    },
    {
      "cell_type": "code",
      "execution_count": null,
      "id": "3ffb4c38",
      "metadata": {
        "execution": {
          "iopub.execute_input": "2022-05-04T21:51:01.788409Z",
          "iopub.status.busy": "2022-05-04T21:51:01.788166Z",
          "iopub.status.idle": "2022-05-04T21:51:02.189799Z",
          "shell.execute_reply": "2022-05-04T21:51:02.189171Z"
        },
        "papermill": {
          "duration": 0.467453,
          "end_time": "2022-05-04T21:51:02.191577",
          "exception": false,
          "start_time": "2022-05-04T21:51:01.724124",
          "status": "completed"
        },
        "tags": [],
        "id": "3ffb4c38",
        "outputId": "0eeba864-e38f-42d2-a6c7-530a355f7a71",
        "colab": {
          "base_uri": "https://localhost:8080/",
          "height": 449
        }
      },
      "outputs": [
        {
          "output_type": "display_data",
          "data": {
            "text/plain": [
              "<Figure size 640x480 with 1 Axes>"
            ],
            "image/png": "[encoded data removed]"
          },
          "metadata": {}
        }
      ],
      "source": [
        "import seaborn as sns\n",
        "ax = sns.countplot(x='sentiment', data=movie_reviews)"
      ]
    },
    {
      "cell_type": "code",
      "execution_count": null,
      "id": "37f87928",
      "metadata": {
        "execution": {
          "iopub.execute_input": "2022-05-04T21:51:02.413597Z",
          "iopub.status.busy": "2022-05-04T21:51:02.412980Z",
          "iopub.status.idle": "2022-05-04T21:51:02.419049Z",
          "shell.execute_reply": "2022-05-04T21:51:02.418280Z"
        },
        "papermill": {
          "duration": 0.064092,
          "end_time": "2022-05-04T21:51:02.420808",
          "exception": false,
          "start_time": "2022-05-04T21:51:02.356716",
          "status": "completed"
        },
        "tags": [],
        "id": "37f87928",
        "outputId": "30b11e91-aa10-4384-bef3-4477efc9f23e",
        "colab": {
          "base_uri": "https://localhost:8080/",
          "height": 156
        }
      },
      "outputs": [
        {
          "output_type": "execute_result",
          "data": {
            "text/plain": [
              "\"Basically there's a family where a little boy (Jake) thinks there's a zombie in his closet & his parents are fighting all the time.<br /><br />This movie is slower than a soap opera... and suddenly, Jake decides to become Rambo and kill the zombie.<br /><br />OK, first of all when you're going to make a film you must Decide if its a thriller or a drama! As a drama the movie is watchable. Parents are divorcing & arguing like in real life. And then we have Jake with his closet which totally ruins all the film! I expected to see a BOOGEYMAN similar movie, and instead i watched a drama with some meaningless thriller spots.<br /><br />3 out of 10 just for the well playing parents & descent dialogs. As for the shots with Jake: just ignore them.\""
            ],
            "application/vnd.google.colaboratory.intrinsic+json": {
              "type": "string"
            }
          },
          "metadata": {},
          "execution_count": 11
        }
      ],
      "source": [
        "# Displaying a review sample\n",
        "movie_reviews['review'].iloc[3]"
      ]
    },
    {
      "cell_type": "code",
      "execution_count": null,
      "id": "ff463ef0",
      "metadata": {
        "execution": {
          "iopub.execute_input": "2022-05-04T21:51:02.753938Z",
          "iopub.status.busy": "2022-05-04T21:51:02.753701Z",
          "iopub.status.idle": "2022-05-04T21:51:02.758786Z",
          "shell.execute_reply": "2022-05-04T21:51:02.758099Z"
        },
        "papermill": {
          "duration": 0.063058,
          "end_time": "2022-05-04T21:51:02.760513",
          "exception": false,
          "start_time": "2022-05-04T21:51:02.697455",
          "status": "completed"
        },
        "tags": [],
        "id": "ff463ef0"
      },
      "outputs": [],
      "source": [
        "def preprocess_text(sen):\n",
        " # Removing html tags\n",
        " sentence = remove_tags(sen)\n",
        " # Remove punctuations and numbers\n",
        " sentence = re.sub('[^a-zA-Z]', ' ', sentence)\n",
        " # Single character removal\n",
        " sentence = re.sub(r\"\\s+[a-zA-Z]\\s+\", ' ', sentence)\n",
        " # Removing multiple spaces\n",
        " sentence = re.sub(r'\\s+', ' ', sentence)\n",
        " return sentence\n",
        "TAG_RE = re.compile(r'<[^>]+>')\n",
        "def remove_tags(text):\n",
        " return TAG_RE.sub('', text)"
      ]
    },
    {
      "cell_type": "code",
      "execution_count": null,
      "id": "3214ee26",
      "metadata": {
        "execution": {
          "iopub.execute_input": "2022-05-04T21:51:02.872139Z",
          "iopub.status.busy": "2022-05-04T21:51:02.871913Z",
          "iopub.status.idle": "2022-05-04T21:51:17.105289Z",
          "shell.execute_reply": "2022-05-04T21:51:17.104569Z"
        },
        "papermill": {
          "duration": 14.291758,
          "end_time": "2022-05-04T21:51:17.107334",
          "exception": false,
          "start_time": "2022-05-04T21:51:02.815576",
          "status": "completed"
        },
        "tags": [],
        "id": "3214ee26"
      },
      "outputs": [],
      "source": [
        "X = []\n",
        "sentences = list(movie_reviews['review'])\n",
        "for sen in sentences:\n",
        "    X.append(preprocess_text(sen))"
      ]
    },
    {
      "cell_type": "code",
      "execution_count": null,
      "id": "d549ae83",
      "metadata": {
        "execution": {
          "iopub.execute_input": "2022-05-04T21:51:17.220563Z",
          "iopub.status.busy": "2022-05-04T21:51:17.219916Z",
          "iopub.status.idle": "2022-05-04T21:51:17.224697Z",
          "shell.execute_reply": "2022-05-04T21:51:17.224021Z"
        },
        "papermill": {
          "duration": 0.063337,
          "end_time": "2022-05-04T21:51:17.226570",
          "exception": false,
          "start_time": "2022-05-04T21:51:17.163233",
          "status": "completed"
        },
        "tags": [],
        "id": "d549ae83",
        "outputId": "20c9a6d0-5ae9-4cbf-f1a2-3dc05c31331b",
        "colab": {
          "base_uri": "https://localhost:8080/",
          "height": 139
        }
      },
      "outputs": [
        {
          "output_type": "execute_result",
          "data": {
            "text/plain": [
              "'Basically there a family where little boy Jake thinks there a zombie in his closet his parents are fighting all the time This movie is slower than soap opera and suddenly Jake decides to become Rambo and kill the zombie OK first of all when you re going to make film you must Decide if its thriller or drama As drama the movie is watchable Parents are divorcing arguing like in real life And then we have Jake with his closet which totally ruins all the film expected to see BOOGEYMAN similar movie and instead watched drama with some meaningless thriller spots out of just for the well playing parents descent dialogs As for the shots with Jake just ignore them '"
            ],
            "application/vnd.google.colaboratory.intrinsic+json": {
              "type": "string"
            }
          },
          "metadata": {},
          "execution_count": 14
        }
      ],
      "source": [
        "# Displaying a review sample ( 4th review )\n",
        "X[3]"
      ]
    },
    {
      "cell_type": "code",
      "execution_count": null,
      "id": "da8798b7",
      "metadata": {
        "execution": {
          "iopub.execute_input": "2022-05-04T21:51:17.451634Z",
          "iopub.status.busy": "2022-05-04T21:51:17.451392Z",
          "iopub.status.idle": "2022-05-04T21:51:17.473020Z",
          "shell.execute_reply": "2022-05-04T21:51:17.472373Z"
        },
        "papermill": {
          "duration": 0.0794,
          "end_time": "2022-05-04T21:51:17.474701",
          "exception": false,
          "start_time": "2022-05-04T21:51:17.395301",
          "status": "completed"
        },
        "tags": [],
        "id": "da8798b7"
      },
      "outputs": [],
      "source": [
        "y = movie_reviews['sentiment']\n",
        "# We replace positive with 1 and negative with 0\n",
        "y = np.array(list(map(lambda x: 1 if x==\"positive\" else 0, y)))"
      ]
    },
    {
      "cell_type": "code",
      "execution_count": null,
      "id": "f9b6d196",
      "metadata": {
        "execution": {
          "iopub.execute_input": "2022-05-04T21:51:17.585983Z",
          "iopub.status.busy": "2022-05-04T21:51:17.585435Z",
          "iopub.status.idle": "2022-05-04T21:51:17.606000Z",
          "shell.execute_reply": "2022-05-04T21:51:17.605384Z"
        },
        "papermill": {
          "duration": 0.078048,
          "end_time": "2022-05-04T21:51:17.607705",
          "exception": false,
          "start_time": "2022-05-04T21:51:17.529657",
          "status": "completed"
        },
        "tags": [],
        "id": "f9b6d196"
      },
      "outputs": [],
      "source": [
        "# Train Test Split\n",
        "X_train, X_test, y_train, y_test = train_test_split(X, y,test_size=0.20, random_state=42)"
      ]
    },
    {
      "cell_type": "code",
      "execution_count": null,
      "id": "841d669e",
      "metadata": {
        "execution": {
          "iopub.execute_input": "2022-05-04T21:51:17.831613Z",
          "iopub.status.busy": "2022-05-04T21:51:17.830899Z",
          "iopub.status.idle": "2022-05-04T21:51:30.254431Z",
          "shell.execute_reply": "2022-05-04T21:51:30.253676Z"
        },
        "papermill": {
          "duration": 12.482768,
          "end_time": "2022-05-04T21:51:30.256428",
          "exception": false,
          "start_time": "2022-05-04T21:51:17.773660",
          "status": "completed"
        },
        "tags": [],
        "id": "841d669e"
      },
      "outputs": [],
      "source": [
        "tokenizer = Tokenizer(num_words=5000)\n",
        "tokenizer.fit_on_texts(X_train)\n",
        "X_train = tokenizer.texts_to_sequences(X_train)\n",
        "X_test = tokenizer.texts_to_sequences(X_test)"
      ]
    },
    {
      "cell_type": "code",
      "execution_count": null,
      "id": "dea0c169",
      "metadata": {
        "execution": {
          "iopub.execute_input": "2022-05-04T21:51:30.369530Z",
          "iopub.status.busy": "2022-05-04T21:51:30.369277Z",
          "iopub.status.idle": "2022-05-04T21:51:30.948387Z",
          "shell.execute_reply": "2022-05-04T21:51:30.947642Z"
        },
        "papermill": {
          "duration": 0.637506,
          "end_time": "2022-05-04T21:51:30.950317",
          "exception": false,
          "start_time": "2022-05-04T21:51:30.312811",
          "status": "completed"
        },
        "tags": [],
        "id": "dea0c169"
      },
      "outputs": [],
      "source": [
        "# Adding 1 because of reserved 0 index\n",
        "vocab_size = len(tokenizer.word_index) + 1\n",
        "maxlen = 100\n",
        "X_train = pad_sequences(X_train, padding='post', maxlen=maxlen)\n",
        "X_test = pad_sequences(X_test, padding='post', maxlen=maxlen)"
      ]
    },
    {
      "cell_type": "code",
      "execution_count": null,
      "id": "0eaa3883",
      "metadata": {
        "execution": {
          "iopub.execute_input": "2022-05-04T21:51:31.068716Z",
          "iopub.status.busy": "2022-05-04T21:51:31.068210Z",
          "iopub.status.idle": "2022-05-04T21:51:31.073961Z",
          "shell.execute_reply": "2022-05-04T21:51:31.073080Z"
        },
        "papermill": {
          "duration": 0.070802,
          "end_time": "2022-05-04T21:51:31.077033",
          "exception": false,
          "start_time": "2022-05-04T21:51:31.006231",
          "status": "completed"
        },
        "tags": [],
        "id": "0eaa3883",
        "outputId": "22eac634-da56-4f90-b3ba-00b68249c570",
        "colab": {
          "base_uri": "https://localhost:8080/"
        }
      },
      "outputs": [
        {
          "output_type": "execute_result",
          "data": {
            "text/plain": [
              "92547"
            ]
          },
          "metadata": {},
          "execution_count": 19
        }
      ],
      "source": [
        "vocab_size"
      ]
    },
    {
      "cell_type": "code",
      "execution_count": null,
      "id": "454b6ce9",
      "metadata": {
        "execution": {
          "iopub.execute_input": "2022-05-04T21:51:31.195434Z",
          "iopub.status.busy": "2022-05-04T21:51:31.195178Z",
          "iopub.status.idle": "2022-05-04T21:51:42.551198Z",
          "shell.execute_reply": "2022-05-04T21:51:42.550403Z"
        },
        "papermill": {
          "duration": 11.417705,
          "end_time": "2022-05-04T21:51:42.553516",
          "exception": false,
          "start_time": "2022-05-04T21:51:31.135811",
          "status": "completed"
        },
        "tags": [],
        "id": "454b6ce9"
      },
      "outputs": [],
      "source": [
        "from numpy import array\n",
        "from numpy import asarray\n",
        "from numpy import zeros\n",
        "def embeddings(path):\n",
        "    embeddings_dictionary = dict()\n",
        "    embeddings_file = open(path)\n",
        "    for line in embeddings_file:\n",
        "        records = line.split()\n",
        "        word = records[0]\n",
        "        vector_dimensions = asarray(records[1:],dtype='float32')\n",
        "        embeddings_dictionary[word] = vector_dimensions\n",
        "    embeddings_file.close()\n",
        "    return embeddings_dictionary\n",
        "embeddings_dictionary=embeddings(\"/content/drive/MyDrive/NLP/GK/glove.6B.100d.txt\")\n"
      ]
    },
    {
      "cell_type": "code",
      "execution_count": null,
      "id": "36f00c5c",
      "metadata": {
        "execution": {
          "iopub.execute_input": "2022-05-04T21:51:42.684548Z",
          "iopub.status.busy": "2022-05-04T21:51:42.684273Z",
          "iopub.status.idle": "2022-05-04T21:51:42.871079Z",
          "shell.execute_reply": "2022-05-04T21:51:42.870287Z"
        },
        "papermill": {
          "duration": 0.254098,
          "end_time": "2022-05-04T21:51:42.873377",
          "exception": false,
          "start_time": "2022-05-04T21:51:42.619279",
          "status": "completed"
        },
        "tags": [],
        "id": "36f00c5c"
      },
      "outputs": [],
      "source": [
        "embedding_matrix = zeros((vocab_size, 100))\n",
        "for word, index in tokenizer.word_index.items():\n",
        "    embedding_vector = embeddings_dictionary.get(word)\n",
        "    if embedding_vector is not None:\n",
        "        embedding_matrix[index] = embedding_vector"
      ]
    },
    {
      "cell_type": "markdown",
      "source": [
        "**LSTM**"
      ],
      "metadata": {
        "id": "CHx6jT2GPQDL"
      },
      "id": "CHx6jT2GPQDL"
    },
    {
      "cell_type": "code",
      "execution_count": null,
      "id": "5f65caab",
      "metadata": {
        "execution": {
          "iopub.execute_input": "2022-05-04T21:52:17.258783Z",
          "iopub.status.busy": "2022-05-04T21:52:17.258542Z",
          "iopub.status.idle": "2022-05-04T21:52:17.264355Z",
          "shell.execute_reply": "2022-05-04T21:52:17.263569Z"
        },
        "papermill": {
          "duration": 0.14941,
          "end_time": "2022-05-04T21:52:17.266312",
          "exception": false,
          "start_time": "2022-05-04T21:52:17.116902",
          "status": "completed"
        },
        "tags": [],
        "id": "5f65caab"
      },
      "outputs": [],
      "source": [
        "def rnn_clf(X_train,y_train,l,embedding_matrix):\n",
        "    rnn_clf=Sequential()\n",
        "    rnn_clf.add(Embedding(vocab_size, l, weights=[embedding_matrix],input_length=maxlen))\n",
        "    rnn_clf.add(LSTM(128))\n",
        "    rnn_clf.add(Dense(1,activation='sigmoid'))\n",
        "    rnn_clf.compile(loss='binary_crossentropy',optimizer='adam',metrics=['acc'])\n",
        "    history=rnn_clf.fit(X_train,y_train,epochs=6,batch_size=128,verbose=1,validation_split=0.2)\n",
        "    return rnn_clf,history"
      ]
    },
    {
      "cell_type": "code",
      "execution_count": null,
      "id": "3cff919a",
      "metadata": {
        "execution": {
          "iopub.execute_input": "2022-05-04T21:52:17.550665Z",
          "iopub.status.busy": "2022-05-04T21:52:17.550440Z",
          "iopub.status.idle": "2022-05-04T21:52:37.761618Z",
          "shell.execute_reply": "2022-05-04T21:52:37.760886Z"
        },
        "papermill": {
          "duration": 20.355532,
          "end_time": "2022-05-04T21:52:37.763744",
          "exception": false,
          "start_time": "2022-05-04T21:52:17.408212",
          "status": "completed"
        },
        "tags": [],
        "id": "3cff919a",
        "outputId": "18c45cb0-635a-4171-f315-8df406edc8fc",
        "colab": {
          "base_uri": "https://localhost:8080/"
        }
      },
      "outputs": [
        {
          "output_type": "stream",
          "name": "stdout",
          "text": [
            "Epoch 1/6\n",
            "250/250 [==============================] - 110s 429ms/step - loss: 0.4826 - acc: 0.7637 - val_loss: 0.3680 - val_acc: 0.8351\n",
            "Epoch 2/6\n",
            "250/250 [==============================] - 96s 384ms/step - loss: 0.3367 - acc: 0.8547 - val_loss: 0.3556 - val_acc: 0.8464\n",
            "Epoch 3/6\n",
            "250/250 [==============================] - 102s 410ms/step - loss: 0.2863 - acc: 0.8809 - val_loss: 0.3187 - val_acc: 0.8615\n",
            "Epoch 4/6\n",
            "250/250 [==============================] - 114s 454ms/step - loss: 0.2585 - acc: 0.8946 - val_loss: 0.3416 - val_acc: 0.8599\n",
            "Epoch 5/6\n",
            "250/250 [==============================] - 97s 388ms/step - loss: 0.2344 - acc: 0.9068 - val_loss: 0.3456 - val_acc: 0.8610\n",
            "Epoch 6/6\n",
            "250/250 [==============================] - 99s 396ms/step - loss: 0.2098 - acc: 0.9181 - val_loss: 0.3372 - val_acc: 0.8621\n"
          ]
        }
      ],
      "source": [
        "rnn_clf,history=rnn_clf(X_train,y_train,100,embedding_matrix)"
      ]
    },
    {
      "cell_type": "code",
      "execution_count": null,
      "id": "113eab27",
      "metadata": {
        "execution": {
          "iopub.execute_input": "2022-05-04T21:52:38.731993Z",
          "iopub.status.busy": "2022-05-04T21:52:38.731734Z",
          "iopub.status.idle": "2022-05-04T21:52:40.041173Z",
          "shell.execute_reply": "2022-05-04T21:52:40.040337Z"
        },
        "papermill": {
          "duration": 1.564605,
          "end_time": "2022-05-04T21:52:40.043339",
          "exception": false,
          "start_time": "2022-05-04T21:52:38.478734",
          "status": "completed"
        },
        "tags": [],
        "id": "113eab27",
        "outputId": "5d601370-1c3d-408a-9042-172d74895802",
        "colab": {
          "base_uri": "https://localhost:8080/"
        }
      },
      "outputs": [
        {
          "output_type": "stream",
          "name": "stdout",
          "text": [
            "313/313 [==============================] - 13s 42ms/step\n",
            "Accuracy: 0.8683\n",
            "F1 Score: 0.8703101920236337\n",
            "Recall: 0.8769597142290136\n",
            "Precision: 0.8637607505863957\n",
            "AUC: 0.9422476463468038\n",
            "Kappa: 0.736552326509005\n",
            "MCC: 0.7366397140522501\n"
          ]
        }
      ],
      "source": [
        "from sklearn.metrics import accuracy_score, f1_score, recall_score, precision_score, roc_auc_score, cohen_kappa_score, matthews_corrcoef\n",
        "\n",
        "# Evaluate the model\n",
        "y_pred = rnn_clf.predict(X_test)\n",
        "y_pred_binary = (y_pred > 0.5).astype(int)\n",
        "\n",
        "# Print metrics\n",
        "accuracy = accuracy_score(y_test, y_pred_binary)\n",
        "print(f\"Accuracy: {accuracy}\")\n",
        "\n",
        "f1 = f1_score(y_test, y_pred_binary)\n",
        "print(f\"F1 Score: {f1}\")\n",
        "\n",
        "recall = recall_score(y_test, y_pred_binary)\n",
        "print(f\"Recall: {recall}\")\n",
        "\n",
        "precision = precision_score(y_test, y_pred_binary)\n",
        "print(f\"Precision: {precision}\")\n",
        "\n",
        "auc = roc_auc_score(y_test, y_pred)\n",
        "print(f\"AUC: {auc}\")\n",
        "\n",
        "kappa = cohen_kappa_score(y_test, y_pred_binary)\n",
        "print(f\"Kappa: {kappa}\")\n",
        "\n",
        "mcc = matthews_corrcoef(y_test, y_pred_binary)\n",
        "print(f\"MCC: {mcc}\")\n"
      ]
    },
    {
      "cell_type": "code",
      "source": [
        "import matplotlib.pyplot as plt\n",
        "# Plot accuracy and loss during training\n",
        "plt.figure(figsize=(12, 4))\n",
        "\n",
        "# Plot Training & Validation Accuracy values\n",
        "plt.subplot(1, 2, 1)\n",
        "plt.plot(history.history['acc'])\n",
        "plt.plot(history.history['val_acc'])\n",
        "plt.title('Model Accuracy')\n",
        "plt.xlabel('Epoch')\n",
        "plt.ylabel('Accuracy')\n",
        "plt.legend(['Train', 'Validation'], loc='upper left')\n",
        "\n",
        "# Plot Training & Validation Loss values\n",
        "plt.subplot(1, 2, 2)\n",
        "plt.plot(history.history['loss'])\n",
        "plt.plot(history.history['val_loss'])\n",
        "plt.title('Model Loss')\n",
        "plt.xlabel('Epoch')\n",
        "plt.ylabel('Loss')\n",
        "plt.legend(['Train', 'Validation'], loc='upper left')\n",
        "\n",
        "plt.tight_layout()\n",
        "plt.show()"
      ],
      "metadata": {
        "id": "ccU0wizoXQJi",
        "colab": {
          "base_uri": "https://localhost:8080/",
          "height": 281
        },
        "outputId": "3891a8f7-60b1-41f1-80fa-284f103f9c0d"
      },
      "id": "ccU0wizoXQJi",
      "execution_count": null,
      "outputs": [
        {
          "output_type": "display_data",
          "data": {
            "text/plain": [
              "<Figure size 1200x400 with 2 Axes>"
            ],
            "image/png": "[encoded data removed]"
          },
          "metadata": {}
        }
      ]
    },
    {
      "cell_type": "markdown",
      "source": [
        "**GRU**"
      ],
      "metadata": {
        "id": "G7W8K32VPanc"
      },
      "id": "G7W8K32VPanc"
    },
    {
      "cell_type": "code",
      "execution_count": null,
      "id": "e7d35001",
      "metadata": {
        "execution": {
          "iopub.execute_input": "2022-05-04T21:52:43.201850Z",
          "iopub.status.busy": "2022-05-04T21:52:43.201403Z",
          "iopub.status.idle": "2022-05-04T21:52:43.208190Z",
          "shell.execute_reply": "2022-05-04T21:52:43.207260Z"
        },
        "papermill": {
          "duration": 0.25528,
          "end_time": "2022-05-04T21:52:43.210220",
          "exception": false,
          "start_time": "2022-05-04T21:52:42.954940",
          "status": "completed"
        },
        "tags": [],
        "id": "e7d35001"
      },
      "outputs": [],
      "source": [
        "from keras.layers import GRU\n",
        "\n",
        "def gru_clf(X_train,y_train,l,embedding_matrix):\n",
        "    gru_clf=Sequential()\n",
        "    gru_clf.add(Embedding(vocab_size, l, weights=[embedding_matrix],input_length=maxlen))\n",
        "    gru_clf.add(GRU(128))\n",
        "    gru_clf.add(Dense(1,activation='sigmoid'))\n",
        "    gru_clf.compile(loss='binary_crossentropy',optimizer='adam',metrics=['acc'])\n",
        "    hist=gru_clf.fit(X_train,y_train,epochs=6,batch_size=128,verbose=1,validation_split=0.2)\n",
        "    return gru_clf,hist"
      ]
    },
    {
      "cell_type": "code",
      "execution_count": null,
      "id": "9729a46d",
      "metadata": {
        "execution": {
          "iopub.execute_input": "2022-05-04T21:52:43.700268Z",
          "iopub.status.busy": "2022-05-04T21:52:43.700013Z",
          "iopub.status.idle": "2022-05-04T21:53:01.975065Z",
          "shell.execute_reply": "2022-05-04T21:53:01.974328Z"
        },
        "papermill": {
          "duration": 18.521534,
          "end_time": "2022-05-04T21:53:01.976912",
          "exception": false,
          "start_time": "2022-05-04T21:52:43.455378",
          "status": "completed"
        },
        "tags": [],
        "id": "9729a46d",
        "outputId": "fcca4d70-50d1-4715-f82c-f4a1da939ef1",
        "colab": {
          "base_uri": "https://localhost:8080/"
        }
      },
      "outputs": [
        {
          "output_type": "stream",
          "name": "stdout",
          "text": [
            "Epoch 1/6\n",
            "250/250 [==============================] - 94s 361ms/step - loss: 0.4833 - acc: 0.7505 - val_loss: 0.3308 - val_acc: 0.8533\n",
            "Epoch 2/6\n",
            "250/250 [==============================] - 94s 374ms/step - loss: 0.3001 - acc: 0.8742 - val_loss: 0.3056 - val_acc: 0.8700\n",
            "Epoch 3/6\n",
            "250/250 [==============================] - 81s 323ms/step - loss: 0.2544 - acc: 0.8958 - val_loss: 0.3210 - val_acc: 0.8576\n",
            "Epoch 4/6\n",
            "250/250 [==============================] - 81s 322ms/step - loss: 0.2243 - acc: 0.9121 - val_loss: 0.3165 - val_acc: 0.8700\n",
            "Epoch 5/6\n",
            "250/250 [==============================] - 78s 313ms/step - loss: 0.1931 - acc: 0.9264 - val_loss: 0.3279 - val_acc: 0.8655\n",
            "Epoch 6/6\n",
            "250/250 [==============================] - 80s 320ms/step - loss: 0.1626 - acc: 0.9404 - val_loss: 0.3524 - val_acc: 0.8575\n"
          ]
        }
      ],
      "source": [
        "gru_clf,hist = gru_clf(X_train,y_train,100,embedding_matrix)"
      ]
    },
    {
      "cell_type": "code",
      "execution_count": null,
      "id": "b806b977",
      "metadata": {
        "execution": {
          "iopub.execute_input": "2022-05-04T21:53:02.665551Z",
          "iopub.status.busy": "2022-05-04T21:53:02.665264Z",
          "iopub.status.idle": "2022-05-04T21:53:03.682585Z",
          "shell.execute_reply": "2022-05-04T21:53:03.681366Z"
        },
        "papermill": {
          "duration": 1.367432,
          "end_time": "2022-05-04T21:53:03.684843",
          "exception": false,
          "start_time": "2022-05-04T21:53:02.317411",
          "status": "completed"
        },
        "tags": [],
        "id": "b806b977",
        "outputId": "71a9aca1-bbf2-4ffd-ab37-92f824bf6f87",
        "colab": {
          "base_uri": "https://localhost:8080/"
        }
      },
      "outputs": [
        {
          "output_type": "stream",
          "name": "stdout",
          "text": [
            "313/313 [==============================] - 8s 26ms/step\n",
            "Accuracy: 0.864\n",
            "F1 Score: 0.869054496437512\n",
            "Recall: 0.8956142091684858\n",
            "Precision: 0.8440246867402281\n",
            "AUC: 0.9410994764921499\n",
            "Kappa: 0.7278526812133944\n",
            "MCC: 0.7292390689007353\n"
          ]
        }
      ],
      "source": [
        "# Evaluate the model\n",
        "y_pred = gru_clf.predict(X_test)\n",
        "y_pred_binary = (y_pred > 0.5).astype(int)\n",
        "\n",
        "# Print metrics\n",
        "accuracy = accuracy_score(y_test, y_pred_binary)\n",
        "print(f\"Accuracy: {accuracy}\")\n",
        "\n",
        "f1 = f1_score(y_test, y_pred_binary)\n",
        "print(f\"F1 Score: {f1}\")\n",
        "\n",
        "recall = recall_score(y_test, y_pred_binary)\n",
        "print(f\"Recall: {recall}\")\n",
        "\n",
        "precision = precision_score(y_test, y_pred_binary)\n",
        "print(f\"Precision: {precision}\")\n",
        "\n",
        "auc = roc_auc_score(y_test, y_pred)\n",
        "print(f\"AUC: {auc}\")\n",
        "\n",
        "kappa = cohen_kappa_score(y_test, y_pred_binary)\n",
        "print(f\"Kappa: {kappa}\")\n",
        "\n",
        "mcc = matthews_corrcoef(y_test, y_pred_binary)\n",
        "print(f\"MCC: {mcc}\")"
      ]
    },
    {
      "cell_type": "code",
      "source": [
        "import matplotlib.pyplot as plt\n",
        "# Plot accuracy and loss during training\n",
        "plt.figure(figsize=(12, 4))\n",
        "history = hist\n",
        "# Plot Training & Validation Accuracy values\n",
        "plt.subplot(1, 2, 1)\n",
        "plt.plot(history.history['acc'])\n",
        "plt.plot(history.history['val_acc'])\n",
        "plt.title('Model Accuracy')\n",
        "plt.xlabel('Epoch')\n",
        "plt.ylabel('Accuracy')\n",
        "plt.legend(['Train', 'Validation'], loc='upper left')\n",
        "\n",
        "# Plot Training & Validation Loss values\n",
        "plt.subplot(1, 2, 2)\n",
        "plt.plot(history.history['loss'])\n",
        "plt.plot(history.history['val_loss'])\n",
        "plt.title('Model Loss')\n",
        "plt.xlabel('Epoch')\n",
        "plt.ylabel('Loss')\n",
        "plt.legend(['Train', 'Validation'], loc='upper left')\n",
        "\n",
        "plt.tight_layout()\n",
        "plt.show()"
      ],
      "metadata": {
        "colab": {
          "base_uri": "https://localhost:8080/",
          "height": 281
        },
        "id": "2_hJcsQucLZi",
        "outputId": "be13a235-7c27-4810-f587-89c3646fb0a0"
      },
      "id": "2_hJcsQucLZi",
      "execution_count": null,
      "outputs": [
        {
          "output_type": "display_data",
          "data": {
            "text/plain": [
              "<Figure size 1200x400 with 2 Axes>"
            ],
            "image/png": "[encoded data removed]"
          },
          "metadata": {}
        }
      ]
    }
  ],
  "metadata": {
    "kernelspec": {
      "display_name": "Python 3",
      "language": "python",
      "name": "python3"
    },
    "language_info": {
      "codemirror_mode": {
        "name": "ipython",
        "version": 3
      },
      "file_extension": ".py",
      "mimetype": "text/x-python",
      "name": "python",
      "nbconvert_exporter": "python",
      "pygments_lexer": "ipython3",
      "version": "3.7.12"
    },
    "papermill": {
      "default_parameters": {},
      "duration": 605.570132,
      "end_time": "2022-05-04T22:00:51.483690",
      "environment_variables": {},
      "exception": null,
      "input_path": "__notebook__.ipynb",
      "output_path": "__notebook__.ipynb",
      "parameters": {},
      "start_time": "2022-05-04T21:50:45.913558",
      "version": "2.3.4"
    },
    "colab": {
      "provenance": []
    }
  },
  "nbformat": 4,
  "nbformat_minor": 5
}