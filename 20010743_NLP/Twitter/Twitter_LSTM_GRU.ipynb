{
  "metadata": {
    "kernelspec": {
      "language": "python",
      "display_name": "Python 3",
      "name": "python3"
    },
    "language_info": {
      "name": "python",
      "version": "3.7.12",
      "mimetype": "text/x-python",
      "codemirror_mode": {
        "name": "ipython",
        "version": 3
      },
      "pygments_lexer": "ipython3",
      "nbconvert_exporter": "python",
      "file_extension": ".py"
    },
    "colab": {
      "provenance": []
    }
  },
  "nbformat_minor": 0,
  "nbformat": 4,
  "cells": [
    {
      "cell_type": "code",
      "source": [
        "import numpy as np\n",
        "import pandas as pd\n",
        "#importing modules\n",
        "import os\n",
        "import pandas as pd\n",
        "import seaborn as sns\n",
        "import os\n",
        "import shutil\n",
        "import tensorflow.keras as keras\n",
        "from keras.preprocessing.text import Tokenizer\n",
        "from tensorflow.keras.preprocessing.sequence import pad_sequences\n",
        "from keras.layers import Dense, Embedding, LSTM, SpatialDropout1D,TimeDistributed, Flatten, Bidirectional\n",
        "from sklearn.model_selection import train_test_split\n",
        "from keras.utils import to_categorical\n",
        "from keras.models import Sequential, Model\n",
        "import matplotlib.pyplot as plt\n",
        "from keras.layers import BatchNormalization\n",
        "from keras.regularizers import l2\n",
        "import re"
      ],
      "metadata": {
        "execution": {
          "iopub.status.busy": "2023-04-27T22:13:40.281190Z",
          "iopub.execute_input": "2023-04-27T22:13:40.282180Z",
          "iopub.status.idle": "2023-04-27T22:13:40.464347Z",
          "shell.execute_reply.started": "2023-04-27T22:13:40.282127Z",
          "shell.execute_reply": "2023-04-27T22:13:40.463089Z"
        },
        "trusted": true,
        "id": "IXrd_0x4dp1n"
      },
      "execution_count": null,
      "outputs": []
    },
    {
      "cell_type": "code",
      "source": [
        "train_dataset = pd.read_csv('/content/drive/MyDrive/NLP (1)/Tweets.csv')\n"
      ],
      "metadata": {
        "execution": {
          "iopub.status.busy": "2023-04-27T22:13:43.594578Z",
          "iopub.execute_input": "2023-04-27T22:13:43.595481Z",
          "iopub.status.idle": "2023-04-27T22:13:43.679368Z",
          "shell.execute_reply.started": "2023-04-27T22:13:43.595400Z",
          "shell.execute_reply": "2023-04-27T22:13:43.678067Z"
        },
        "trusted": true,
        "id": "H6StRXBcdp1p"
      },
      "execution_count": null,
      "outputs": []
    },
    {
      "cell_type": "code",
      "source": [
        "train_dataset.head()\n"
      ],
      "metadata": {
        "execution": {
          "iopub.status.busy": "2023-04-27T22:13:48.998890Z",
          "iopub.execute_input": "2023-04-27T22:13:48.999304Z",
          "iopub.status.idle": "2023-04-27T22:13:49.031761Z",
          "shell.execute_reply.started": "2023-04-27T22:13:48.999269Z",
          "shell.execute_reply": "2023-04-27T22:13:49.030443Z"
        },
        "trusted": true,
        "colab": {
          "base_uri": "https://localhost:8080/",
          "height": 206
        },
        "id": "FX4MOtM5dp1p",
        "outputId": "6694ee35-1034-40d7-c016-4804c6f35ca1"
      },
      "execution_count": null,
      "outputs": [
        {
          "output_type": "execute_result",
          "data": {
            "text/plain": [
              "       textID                                               text  \\\n",
              "0  cb774db0d1                I`d have responded, if I were going   \n",
              "1  549e992a42      Sooo SAD I will miss you here in San Diego!!!   \n",
              "2  088c60f138                          my boss is bullying me...   \n",
              "3  9642c003ef                     what interview! leave me alone   \n",
              "4  358bd9e861   Sons of ****, why couldn`t they put them on t...   \n",
              "\n",
              "                         selected_text sentiment  \n",
              "0  I`d have responded, if I were going   neutral  \n",
              "1                             Sooo SAD  negative  \n",
              "2                          bullying me  negative  \n",
              "3                       leave me alone  negative  \n",
              "4                        Sons of ****,  negative  "
            ],
            "text/html": [
              "\n",
              "  <div id=\"df-bb071fb1-f822-495c-8f70-cd1cc8c27f4b\" class=\"colab-df-container\">\n",
              "    <div>\n",
              "<style scoped>\n",
              "    .dataframe tbody tr th:only-of-type {\n",
              "        vertical-align: middle;\n",
              "    }\n",
              "\n",
              "    .dataframe tbody tr th {\n",
              "        vertical-align: top;\n",
              "    }\n",
              "\n",
              "    .dataframe thead th {\n",
              "        text-align: right;\n",
              "    }\n",
              "</style>\n",
              "<table border=\"1\" class=\"dataframe\">\n",
              "  <thead>\n",
              "    <tr style=\"text-align: right;\">\n",
              "      <th></th>\n",
              "      <th>textID</th>\n",
              "      <th>text</th>\n",
              "      <th>selected_text</th>\n",
              "      <th>sentiment</th>\n",
              "    </tr>\n",
              "  </thead>\n",
              "  <tbody>\n",
              "    <tr>\n",
              "      <th>0</th>\n",
              "      <td>cb774db0d1</td>\n",
              "      <td>I`d have responded, if I were going</td>\n",
              "      <td>I`d have responded, if I were going</td>\n",
              "      <td>neutral</td>\n",
              "    </tr>\n",
              "    <tr>\n",
              "      <th>1</th>\n",
              "      <td>549e992a42</td>\n",
              "      <td>Sooo SAD I will miss you here in San Diego!!!</td>\n",
              "      <td>Sooo SAD</td>\n",
              "      <td>negative</td>\n",
              "    </tr>\n",
              "    <tr>\n",
              "      <th>2</th>\n",
              "      <td>088c60f138</td>\n",
              "      <td>my boss is bullying me...</td>\n",
              "      <td>bullying me</td>\n",
              "      <td>negative</td>\n",
              "    </tr>\n",
              "    <tr>\n",
              "      <th>3</th>\n",
              "      <td>9642c003ef</td>\n",
              "      <td>what interview! leave me alone</td>\n",
              "      <td>leave me alone</td>\n",
              "      <td>negative</td>\n",
              "    </tr>\n",
              "    <tr>\n",
              "      <th>4</th>\n",
              "      <td>358bd9e861</td>\n",
              "      <td>Sons of ****, why couldn`t they put them on t...</td>\n",
              "      <td>Sons of ****,</td>\n",
              "      <td>negative</td>\n",
              "    </tr>\n",
              "  </tbody>\n",
              "</table>\n",
              "</div>\n",
              "    <div class=\"colab-df-buttons\">\n",
              "\n",
              "  <div class=\"colab-df-container\">\n",
              "    <button class=\"colab-df-convert\" onclick=\"convertToInteractive('df-bb071fb1-f822-495c-8f70-cd1cc8c27f4b')\"\n",
              "            title=\"Convert this dataframe to an interactive table.\"\n",
              "            style=\"display:none;\">\n",
              "\n",
              "  <svg xmlns=\"http://www.w3.org/2000/svg\" height=\"24px\" viewBox=\"0 -960 960 960\">\n",
              "    <path d=\"M120-120v-720h720v720H120Zm60-500h600v-160H180v160Zm220 220h160v-160H400v160Zm0 220h160v-160H400v160ZM180-400h160v-160H180v160Zm440 0h160v-160H620v160ZM180-180h160v-160H180v160Zm440 0h160v-160H620v160Z\"/>\n",
              "  </svg>\n",
              "    </button>\n",
              "\n",
              "  <style>\n",
              "    .colab-df-container {\n",
              "      display:flex;\n",
              "      gap: 12px;\n",
              "    }\n",
              "\n",
              "    .colab-df-convert {\n",
              "      background-color: #E8F0FE;\n",
              "      border: none;\n",
              "      border-radius: 50%;\n",
              "      cursor: pointer;\n",
              "      display: none;\n",
              "      fill: #1967D2;\n",
              "      height: 32px;\n",
              "      padding: 0 0 0 0;\n",
              "      width: 32px;\n",
              "    }\n",
              "\n",
              "    .colab-df-convert:hover {\n",
              "      background-color: #E2EBFA;\n",
              "      box-shadow: 0px 1px 2px rgba(60, 64, 67, 0.3), 0px 1px 3px 1px rgba(60, 64, 67, 0.15);\n",
              "      fill: #174EA6;\n",
              "    }\n",
              "\n",
              "    .colab-df-buttons div {\n",
              "      margin-bottom: 4px;\n",
              "    }\n",
              "\n",
              "    [theme=dark] .colab-df-convert {\n",
              "      background-color: #3B4455;\n",
              "      fill: #D2E3FC;\n",
              "    }\n",
              "\n",
              "    [theme=dark] .colab-df-convert:hover {\n",
              "      background-color: #434B5C;\n",
              "      box-shadow: 0px 1px 3px 1px rgba(0, 0, 0, 0.15);\n",
              "      filter: drop-shadow(0px 1px 2px rgba(0, 0, 0, 0.3));\n",
              "      fill: #FFFFFF;\n",
              "    }\n",
              "  </style>\n",
              "\n",
              "    <script>\n",
              "      const buttonEl =\n",
              "        document.querySelector('#df-bb071fb1-f822-495c-8f70-cd1cc8c27f4b button.colab-df-convert');\n",
              "      buttonEl.style.display =\n",
              "        google.colab.kernel.accessAllowed ? 'block' : 'none';\n",
              "\n",
              "      async function convertToInteractive(key) {\n",
              "        const element = document.querySelector('#df-bb071fb1-f822-495c-8f70-cd1cc8c27f4b');\n",
              "        const dataTable =\n",
              "          await google.colab.kernel.invokeFunction('convertToInteractive',\n",
              "                                                    [key], {});\n",
              "        if (!dataTable) return;\n",
              "\n",
              "        const docLinkHtml = 'Like what you see? Visit the ' +\n",
              "          '<a target=\"_blank\" href=https://colab.research.google.com/notebooks/data_table.ipynb>data table notebook</a>'\n",
              "          + ' to learn more about interactive tables.';\n",
              "        element.innerHTML = '';\n",
              "        dataTable['output_type'] = 'display_data';\n",
              "        await google.colab.output.renderOutput(dataTable, element);\n",
              "        const docLink = document.createElement('div');\n",
              "        docLink.innerHTML = docLinkHtml;\n",
              "        element.appendChild(docLink);\n",
              "      }\n",
              "    </script>\n",
              "  </div>\n",
              "\n",
              "\n",
              "<div id=\"df-d027462d-333c-46c8-b23e-552b1ad0ee18\">\n",
              "  <button class=\"colab-df-quickchart\" onclick=\"quickchart('df-d027462d-333c-46c8-b23e-552b1ad0ee18')\"\n",
              "            title=\"Suggest charts\"\n",
              "            style=\"display:none;\">\n",
              "\n",
              "<svg xmlns=\"http://www.w3.org/2000/svg\" height=\"24px\"viewBox=\"0 0 24 24\"\n",
              "     width=\"24px\">\n",
              "    <g>\n",
              "        <path d=\"M19 3H5c-1.1 0-2 .9-2 2v14c0 1.1.9 2 2 2h14c1.1 0 2-.9 2-2V5c0-1.1-.9-2-2-2zM9 17H7v-7h2v7zm4 0h-2V7h2v10zm4 0h-2v-4h2v4z\"/>\n",
              "    </g>\n",
              "</svg>\n",
              "  </button>\n",
              "\n",
              "<style>\n",
              "  .colab-df-quickchart {\n",
              "      --bg-color: #E8F0FE;\n",
              "      --fill-color: #1967D2;\n",
              "      --hover-bg-color: #E2EBFA;\n",
              "      --hover-fill-color: #174EA6;\n",
              "      --disabled-fill-color: #AAA;\n",
              "      --disabled-bg-color: #DDD;\n",
              "  }\n",
              "\n",
              "  [theme=dark] .colab-df-quickchart {\n",
              "      --bg-color: #3B4455;\n",
              "      --fill-color: #D2E3FC;\n",
              "      --hover-bg-color: #434B5C;\n",
              "      --hover-fill-color: #FFFFFF;\n",
              "      --disabled-bg-color: #3B4455;\n",
              "      --disabled-fill-color: #666;\n",
              "  }\n",
              "\n",
              "  .colab-df-quickchart {\n",
              "    background-color: var(--bg-color);\n",
              "    border: none;\n",
              "    border-radius: 50%;\n",
              "    cursor: pointer;\n",
              "    display: none;\n",
              "    fill: var(--fill-color);\n",
              "    height: 32px;\n",
              "    padding: 0;\n",
              "    width: 32px;\n",
              "  }\n",
              "\n",
              "  .colab-df-quickchart:hover {\n",
              "    background-color: var(--hover-bg-color);\n",
              "    box-shadow: 0 1px 2px rgba(60, 64, 67, 0.3), 0 1px 3px 1px rgba(60, 64, 67, 0.15);\n",
              "    fill: var(--button-hover-fill-color);\n",
              "  }\n",
              "\n",
              "  .colab-df-quickchart-complete:disabled,\n",
              "  .colab-df-quickchart-complete:disabled:hover {\n",
              "    background-color: var(--disabled-bg-color);\n",
              "    fill: var(--disabled-fill-color);\n",
              "    box-shadow: none;\n",
              "  }\n",
              "\n",
              "  .colab-df-spinner {\n",
              "    border: 2px solid var(--fill-color);\n",
              "    border-color: transparent;\n",
              "    border-bottom-color: var(--fill-color);\n",
              "    animation:\n",
              "      spin 1s steps(1) infinite;\n",
              "  }\n",
              "\n",
              "  @keyframes spin {\n",
              "    0% {\n",
              "      border-color: transparent;\n",
              "      border-bottom-color: var(--fill-color);\n",
              "      border-left-color: var(--fill-color);\n",
              "    }\n",
              "    20% {\n",
              "      border-color: transparent;\n",
              "      border-left-color: var(--fill-color);\n",
              "      border-top-color: var(--fill-color);\n",
              "    }\n",
              "    30% {\n",
              "      border-color: transparent;\n",
              "      border-left-color: var(--fill-color);\n",
              "      border-top-color: var(--fill-color);\n",
              "      border-right-color: var(--fill-color);\n",
              "    }\n",
              "    40% {\n",
              "      border-color: transparent;\n",
              "      border-right-color: var(--fill-color);\n",
              "      border-top-color: var(--fill-color);\n",
              "    }\n",
              "    60% {\n",
              "      border-color: transparent;\n",
              "      border-right-color: var(--fill-color);\n",
              "    }\n",
              "    80% {\n",
              "      border-color: transparent;\n",
              "      border-right-color: var(--fill-color);\n",
              "      border-bottom-color: var(--fill-color);\n",
              "    }\n",
              "    90% {\n",
              "      border-color: transparent;\n",
              "      border-bottom-color: var(--fill-color);\n",
              "    }\n",
              "  }\n",
              "</style>\n",
              "\n",
              "  <script>\n",
              "    async function quickchart(key) {\n",
              "      const quickchartButtonEl =\n",
              "        document.querySelector('#' + key + ' button');\n",
              "      quickchartButtonEl.disabled = true;  // To prevent multiple clicks.\n",
              "      quickchartButtonEl.classList.add('colab-df-spinner');\n",
              "      try {\n",
              "        const charts = await google.colab.kernel.invokeFunction(\n",
              "            'suggestCharts', [key], {});\n",
              "      } catch (error) {\n",
              "        console.error('Error during call to suggestCharts:', error);\n",
              "      }\n",
              "      quickchartButtonEl.classList.remove('colab-df-spinner');\n",
              "      quickchartButtonEl.classList.add('colab-df-quickchart-complete');\n",
              "    }\n",
              "    (() => {\n",
              "      let quickchartButtonEl =\n",
              "        document.querySelector('#df-d027462d-333c-46c8-b23e-552b1ad0ee18 button');\n",
              "      quickchartButtonEl.style.display =\n",
              "        google.colab.kernel.accessAllowed ? 'block' : 'none';\n",
              "    })();\n",
              "  </script>\n",
              "</div>\n",
              "\n",
              "    </div>\n",
              "  </div>\n"
            ]
          },
          "metadata": {},
          "execution_count": 4
        }
      ]
    },
    {
      "cell_type": "code",
      "source": [
        "train_dataset.tail()\n"
      ],
      "metadata": {
        "execution": {
          "iopub.status.busy": "2023-04-27T22:13:54.300812Z",
          "iopub.execute_input": "2023-04-27T22:13:54.301252Z",
          "iopub.status.idle": "2023-04-27T22:13:54.314640Z",
          "shell.execute_reply.started": "2023-04-27T22:13:54.301215Z",
          "shell.execute_reply": "2023-04-27T22:13:54.313556Z"
        },
        "trusted": true,
        "colab": {
          "base_uri": "https://localhost:8080/",
          "height": 206
        },
        "id": "4bSpDOVZdp1q",
        "outputId": "65d95ec3-508d-4fe3-e411-79e48c069cfc"
      },
      "execution_count": null,
      "outputs": [
        {
          "output_type": "execute_result",
          "data": {
            "text/plain": [
              "           textID                                               text  \\\n",
              "27476  4eac33d1c0   wish we could come see u on Denver  husband l...   \n",
              "27477  4f4c4fc327   I`ve wondered about rake to.  The client has ...   \n",
              "27478  f67aae2310   Yay good for both of you. Enjoy the break - y...   \n",
              "27479  ed167662a5                         But it was worth it  ****.   \n",
              "27480  6f7127d9d7     All this flirting going on - The ATG smiles...   \n",
              "\n",
              "                                           selected_text sentiment  \n",
              "27476                                             d lost  negative  \n",
              "27477                                      , don`t force  negative  \n",
              "27478                          Yay good for both of you.  positive  \n",
              "27479                         But it was worth it  ****.  positive  \n",
              "27480  All this flirting going on - The ATG smiles. Y...   neutral  "
            ],
            "text/html": [
              "\n",
              "  <div id=\"df-1e3eea3f-952d-49db-a4ec-a72b9cf8faab\" class=\"colab-df-container\">\n",
              "    <div>\n",
              "<style scoped>\n",
              "    .dataframe tbody tr th:only-of-type {\n",
              "        vertical-align: middle;\n",
              "    }\n",
              "\n",
              "    .dataframe tbody tr th {\n",
              "        vertical-align: top;\n",
              "    }\n",
              "\n",
              "    .dataframe thead th {\n",
              "        text-align: right;\n",
              "    }\n",
              "</style>\n",
              "<table border=\"1\" class=\"dataframe\">\n",
              "  <thead>\n",
              "    <tr style=\"text-align: right;\">\n",
              "      <th></th>\n",
              "      <th>textID</th>\n",
              "      <th>text</th>\n",
              "      <th>selected_text</th>\n",
              "      <th>sentiment</th>\n",
              "    </tr>\n",
              "  </thead>\n",
              "  <tbody>\n",
              "    <tr>\n",
              "      <th>27476</th>\n",
              "      <td>4eac33d1c0</td>\n",
              "      <td>wish we could come see u on Denver  husband l...</td>\n",
              "      <td>d lost</td>\n",
              "      <td>negative</td>\n",
              "    </tr>\n",
              "    <tr>\n",
              "      <th>27477</th>\n",
              "      <td>4f4c4fc327</td>\n",
              "      <td>I`ve wondered about rake to.  The client has ...</td>\n",
              "      <td>, don`t force</td>\n",
              "      <td>negative</td>\n",
              "    </tr>\n",
              "    <tr>\n",
              "      <th>27478</th>\n",
              "      <td>f67aae2310</td>\n",
              "      <td>Yay good for both of you. Enjoy the break - y...</td>\n",
              "      <td>Yay good for both of you.</td>\n",
              "      <td>positive</td>\n",
              "    </tr>\n",
              "    <tr>\n",
              "      <th>27479</th>\n",
              "      <td>ed167662a5</td>\n",
              "      <td>But it was worth it  ****.</td>\n",
              "      <td>But it was worth it  ****.</td>\n",
              "      <td>positive</td>\n",
              "    </tr>\n",
              "    <tr>\n",
              "      <th>27480</th>\n",
              "      <td>6f7127d9d7</td>\n",
              "      <td>All this flirting going on - The ATG smiles...</td>\n",
              "      <td>All this flirting going on - The ATG smiles. Y...</td>\n",
              "      <td>neutral</td>\n",
              "    </tr>\n",
              "  </tbody>\n",
              "</table>\n",
              "</div>\n",
              "    <div class=\"colab-df-buttons\">\n",
              "\n",
              "  <div class=\"colab-df-container\">\n",
              "    <button class=\"colab-df-convert\" onclick=\"convertToInteractive('df-1e3eea3f-952d-49db-a4ec-a72b9cf8faab')\"\n",
              "            title=\"Convert this dataframe to an interactive table.\"\n",
              "            style=\"display:none;\">\n",
              "\n",
              "  <svg xmlns=\"http://www.w3.org/2000/svg\" height=\"24px\" viewBox=\"0 -960 960 960\">\n",
              "    <path d=\"M120-120v-720h720v720H120Zm60-500h600v-160H180v160Zm220 220h160v-160H400v160Zm0 220h160v-160H400v160ZM180-400h160v-160H180v160Zm440 0h160v-160H620v160ZM180-180h160v-160H180v160Zm440 0h160v-160H620v160Z\"/>\n",
              "  </svg>\n",
              "    </button>\n",
              "\n",
              "  <style>\n",
              "    .colab-df-container {\n",
              "      display:flex;\n",
              "      gap: 12px;\n",
              "    }\n",
              "\n",
              "    .colab-df-convert {\n",
              "      background-color: #E8F0FE;\n",
              "      border: none;\n",
              "      border-radius: 50%;\n",
              "      cursor: pointer;\n",
              "      display: none;\n",
              "      fill: #1967D2;\n",
              "      height: 32px;\n",
              "      padding: 0 0 0 0;\n",
              "      width: 32px;\n",
              "    }\n",
              "\n",
              "    .colab-df-convert:hover {\n",
              "      background-color: #E2EBFA;\n",
              "      box-shadow: 0px 1px 2px rgba(60, 64, 67, 0.3), 0px 1px 3px 1px rgba(60, 64, 67, 0.15);\n",
              "      fill: #174EA6;\n",
              "    }\n",
              "\n",
              "    .colab-df-buttons div {\n",
              "      margin-bottom: 4px;\n",
              "    }\n",
              "\n",
              "    [theme=dark] .colab-df-convert {\n",
              "      background-color: #3B4455;\n",
              "      fill: #D2E3FC;\n",
              "    }\n",
              "\n",
              "    [theme=dark] .colab-df-convert:hover {\n",
              "      background-color: #434B5C;\n",
              "      box-shadow: 0px 1px 3px 1px rgba(0, 0, 0, 0.15);\n",
              "      filter: drop-shadow(0px 1px 2px rgba(0, 0, 0, 0.3));\n",
              "      fill: #FFFFFF;\n",
              "    }\n",
              "  </style>\n",
              "\n",
              "    <script>\n",
              "      const buttonEl =\n",
              "        document.querySelector('#df-1e3eea3f-952d-49db-a4ec-a72b9cf8faab button.colab-df-convert');\n",
              "      buttonEl.style.display =\n",
              "        google.colab.kernel.accessAllowed ? 'block' : 'none';\n",
              "\n",
              "      async function convertToInteractive(key) {\n",
              "        const element = document.querySelector('#df-1e3eea3f-952d-49db-a4ec-a72b9cf8faab');\n",
              "        const dataTable =\n",
              "          await google.colab.kernel.invokeFunction('convertToInteractive',\n",
              "                                                    [key], {});\n",
              "        if (!dataTable) return;\n",
              "\n",
              "        const docLinkHtml = 'Like what you see? Visit the ' +\n",
              "          '<a target=\"_blank\" href=https://colab.research.google.com/notebooks/data_table.ipynb>data table notebook</a>'\n",
              "          + ' to learn more about interactive tables.';\n",
              "        element.innerHTML = '';\n",
              "        dataTable['output_type'] = 'display_data';\n",
              "        await google.colab.output.renderOutput(dataTable, element);\n",
              "        const docLink = document.createElement('div');\n",
              "        docLink.innerHTML = docLinkHtml;\n",
              "        element.appendChild(docLink);\n",
              "      }\n",
              "    </script>\n",
              "  </div>\n",
              "\n",
              "\n",
              "<div id=\"df-7e5d5b93-3b90-4c65-90e2-6f95262d22f6\">\n",
              "  <button class=\"colab-df-quickchart\" onclick=\"quickchart('df-7e5d5b93-3b90-4c65-90e2-6f95262d22f6')\"\n",
              "            title=\"Suggest charts\"\n",
              "            style=\"display:none;\">\n",
              "\n",
              "<svg xmlns=\"http://www.w3.org/2000/svg\" height=\"24px\"viewBox=\"0 0 24 24\"\n",
              "     width=\"24px\">\n",
              "    <g>\n",
              "        <path d=\"M19 3H5c-1.1 0-2 .9-2 2v14c0 1.1.9 2 2 2h14c1.1 0 2-.9 2-2V5c0-1.1-.9-2-2-2zM9 17H7v-7h2v7zm4 0h-2V7h2v10zm4 0h-2v-4h2v4z\"/>\n",
              "    </g>\n",
              "</svg>\n",
              "  </button>\n",
              "\n",
              "<style>\n",
              "  .colab-df-quickchart {\n",
              "      --bg-color: #E8F0FE;\n",
              "      --fill-color: #1967D2;\n",
              "      --hover-bg-color: #E2EBFA;\n",
              "      --hover-fill-color: #174EA6;\n",
              "      --disabled-fill-color: #AAA;\n",
              "      --disabled-bg-color: #DDD;\n",
              "  }\n",
              "\n",
              "  [theme=dark] .colab-df-quickchart {\n",
              "      --bg-color: #3B4455;\n",
              "      --fill-color: #D2E3FC;\n",
              "      --hover-bg-color: #434B5C;\n",
              "      --hover-fill-color: #FFFFFF;\n",
              "      --disabled-bg-color: #3B4455;\n",
              "      --disabled-fill-color: #666;\n",
              "  }\n",
              "\n",
              "  .colab-df-quickchart {\n",
              "    background-color: var(--bg-color);\n",
              "    border: none;\n",
              "    border-radius: 50%;\n",
              "    cursor: pointer;\n",
              "    display: none;\n",
              "    fill: var(--fill-color);\n",
              "    height: 32px;\n",
              "    padding: 0;\n",
              "    width: 32px;\n",
              "  }\n",
              "\n",
              "  .colab-df-quickchart:hover {\n",
              "    background-color: var(--hover-bg-color);\n",
              "    box-shadow: 0 1px 2px rgba(60, 64, 67, 0.3), 0 1px 3px 1px rgba(60, 64, 67, 0.15);\n",
              "    fill: var(--button-hover-fill-color);\n",
              "  }\n",
              "\n",
              "  .colab-df-quickchart-complete:disabled,\n",
              "  .colab-df-quickchart-complete:disabled:hover {\n",
              "    background-color: var(--disabled-bg-color);\n",
              "    fill: var(--disabled-fill-color);\n",
              "    box-shadow: none;\n",
              "  }\n",
              "\n",
              "  .colab-df-spinner {\n",
              "    border: 2px solid var(--fill-color);\n",
              "    border-color: transparent;\n",
              "    border-bottom-color: var(--fill-color);\n",
              "    animation:\n",
              "      spin 1s steps(1) infinite;\n",
              "  }\n",
              "\n",
              "  @keyframes spin {\n",
              "    0% {\n",
              "      border-color: transparent;\n",
              "      border-bottom-color: var(--fill-color);\n",
              "      border-left-color: var(--fill-color);\n",
              "    }\n",
              "    20% {\n",
              "      border-color: transparent;\n",
              "      border-left-color: var(--fill-color);\n",
              "      border-top-color: var(--fill-color);\n",
              "    }\n",
              "    30% {\n",
              "      border-color: transparent;\n",
              "      border-left-color: var(--fill-color);\n",
              "      border-top-color: var(--fill-color);\n",
              "      border-right-color: var(--fill-color);\n",
              "    }\n",
              "    40% {\n",
              "      border-color: transparent;\n",
              "      border-right-color: var(--fill-color);\n",
              "      border-top-color: var(--fill-color);\n",
              "    }\n",
              "    60% {\n",
              "      border-color: transparent;\n",
              "      border-right-color: var(--fill-color);\n",
              "    }\n",
              "    80% {\n",
              "      border-color: transparent;\n",
              "      border-right-color: var(--fill-color);\n",
              "      border-bottom-color: var(--fill-color);\n",
              "    }\n",
              "    90% {\n",
              "      border-color: transparent;\n",
              "      border-bottom-color: var(--fill-color);\n",
              "    }\n",
              "  }\n",
              "</style>\n",
              "\n",
              "  <script>\n",
              "    async function quickchart(key) {\n",
              "      const quickchartButtonEl =\n",
              "        document.querySelector('#' + key + ' button');\n",
              "      quickchartButtonEl.disabled = true;  // To prevent multiple clicks.\n",
              "      quickchartButtonEl.classList.add('colab-df-spinner');\n",
              "      try {\n",
              "        const charts = await google.colab.kernel.invokeFunction(\n",
              "            'suggestCharts', [key], {});\n",
              "      } catch (error) {\n",
              "        console.error('Error during call to suggestCharts:', error);\n",
              "      }\n",
              "      quickchartButtonEl.classList.remove('colab-df-spinner');\n",
              "      quickchartButtonEl.classList.add('colab-df-quickchart-complete');\n",
              "    }\n",
              "    (() => {\n",
              "      let quickchartButtonEl =\n",
              "        document.querySelector('#df-7e5d5b93-3b90-4c65-90e2-6f95262d22f6 button');\n",
              "      quickchartButtonEl.style.display =\n",
              "        google.colab.kernel.accessAllowed ? 'block' : 'none';\n",
              "    })();\n",
              "  </script>\n",
              "</div>\n",
              "\n",
              "    </div>\n",
              "  </div>\n"
            ]
          },
          "metadata": {},
          "execution_count": 5
        }
      ]
    },
    {
      "cell_type": "code",
      "source": [
        "train_dataset.shape\n"
      ],
      "metadata": {
        "execution": {
          "iopub.status.busy": "2023-04-27T22:13:58.710699Z",
          "iopub.execute_input": "2023-04-27T22:13:58.711892Z",
          "iopub.status.idle": "2023-04-27T22:13:58.719492Z",
          "shell.execute_reply.started": "2023-04-27T22:13:58.711821Z",
          "shell.execute_reply": "2023-04-27T22:13:58.718503Z"
        },
        "trusted": true,
        "colab": {
          "base_uri": "https://localhost:8080/"
        },
        "id": "c4E32n8tdp1s",
        "outputId": "91b4bffd-8cfe-48ae-860a-85d3fd6a640b"
      },
      "execution_count": null,
      "outputs": [
        {
          "output_type": "execute_result",
          "data": {
            "text/plain": [
              "(27481, 4)"
            ]
          },
          "metadata": {},
          "execution_count": 6
        }
      ]
    },
    {
      "cell_type": "code",
      "source": [
        "#checking if there are any null values\n",
        "train_dataset.isnull().any()"
      ],
      "metadata": {
        "execution": {
          "iopub.status.busy": "2023-04-27T22:14:03.239056Z",
          "iopub.execute_input": "2023-04-27T22:14:03.239551Z",
          "iopub.status.idle": "2023-04-27T22:14:03.257942Z",
          "shell.execute_reply.started": "2023-04-27T22:14:03.239505Z",
          "shell.execute_reply": "2023-04-27T22:14:03.256459Z"
        },
        "trusted": true,
        "colab": {
          "base_uri": "https://localhost:8080/"
        },
        "id": "1KVQa0pbdp1t",
        "outputId": "5d7d5c0a-72d7-40f6-8c49-08891aeb5746"
      },
      "execution_count": null,
      "outputs": [
        {
          "output_type": "execute_result",
          "data": {
            "text/plain": [
              "textID           False\n",
              "text              True\n",
              "selected_text     True\n",
              "sentiment        False\n",
              "dtype: bool"
            ]
          },
          "metadata": {},
          "execution_count": 8
        }
      ]
    },
    {
      "cell_type": "code",
      "source": [
        "#checking out number of negative, neutral and positive sentiment labels in the dataset.\n",
        "print(\"Number of positive sentiment in train data of length: {0} is {1}\".format(len(train_dataset), len(train_dataset[train_dataset['sentiment']==\"positive\"])))\n",
        "print(\"Number of negative sentiment in train data of length: {0} is {1}\".format(len(train_dataset), len(train_dataset[train_dataset['sentiment']==\"neutral\"])))\n",
        "print(\"Number of neutral sentiment in train data of length: {0} is {1}\".format(len(train_dataset), len(train_dataset[train_dataset['sentiment']==\"negative\"])))\n"
      ],
      "metadata": {
        "execution": {
          "iopub.status.busy": "2023-04-27T22:14:08.933278Z",
          "iopub.execute_input": "2023-04-27T22:14:08.933736Z",
          "iopub.status.idle": "2023-04-27T22:14:08.962670Z",
          "shell.execute_reply.started": "2023-04-27T22:14:08.933693Z",
          "shell.execute_reply": "2023-04-27T22:14:08.961345Z"
        },
        "trusted": true,
        "colab": {
          "base_uri": "https://localhost:8080/"
        },
        "id": "7xOoTDI8dp1u",
        "outputId": "52fddee2-8d15-4246-8049-1f7d94f53545"
      },
      "execution_count": null,
      "outputs": [
        {
          "output_type": "stream",
          "name": "stdout",
          "text": [
            "Number of positive sentiment in train data of length: 27481 is 8582\n",
            "Number of negative sentiment in train data of length: 27481 is 11118\n",
            "Number of neutral sentiment in train data of length: 27481 is 7781\n"
          ]
        }
      ]
    },
    {
      "cell_type": "code",
      "source": [
        "\n",
        "#plotting the same.\n",
        "train_dataset.groupby('sentiment').count().plot.bar(color='red')"
      ],
      "metadata": {
        "execution": {
          "iopub.status.busy": "2023-04-27T22:14:14.389011Z",
          "iopub.execute_input": "2023-04-27T22:14:14.389818Z",
          "iopub.status.idle": "2023-04-27T22:14:14.663344Z",
          "shell.execute_reply.started": "2023-04-27T22:14:14.389773Z",
          "shell.execute_reply": "2023-04-27T22:14:14.661853Z"
        },
        "trusted": true,
        "colab": {
          "base_uri": "https://localhost:8080/",
          "height": 513
        },
        "id": "1yZhTCvVdp1w",
        "outputId": "0d96fd15-e7fe-434c-abd8-7c08c91584dd"
      },
      "execution_count": null,
      "outputs": [
        {
          "output_type": "execute_result",
          "data": {
            "text/plain": [
              "<Axes: xlabel='sentiment'>"
            ]
          },
          "metadata": {},
          "execution_count": 10
        },
        {
          "output_type": "display_data",
          "data": {
            "text/plain": [
              "<Figure size 640x480 with 1 Axes>"
            ],
            "image/png": "[encoded data removed]"
          },
          "metadata": {}
        }
      ]
    },
    {
      "cell_type": "code",
      "source": [
        "#plotting the distibution of number of characters in the tweets\n",
        "sns.distplot(train_dataset.text.str.len())"
      ],
      "metadata": {
        "execution": {
          "iopub.status.busy": "2023-04-27T22:14:20.287237Z",
          "iopub.execute_input": "2023-04-27T22:14:20.288643Z",
          "iopub.status.idle": "2023-04-27T22:14:20.758880Z",
          "shell.execute_reply.started": "2023-04-27T22:14:20.288594Z",
          "shell.execute_reply": "2023-04-27T22:14:20.757523Z"
        },
        "trusted": true,
        "colab": {
          "base_uri": "https://localhost:8080/",
          "height": 657
        },
        "id": "YAaREZaBdp1y",
        "outputId": "1f3194d5-e1ca-415c-ccc4-1190c1af3445"
      },
      "execution_count": null,
      "outputs": [
        {
          "output_type": "stream",
          "name": "stderr",
          "text": [
            "<ipython-input-11-65b4696ea094>:2: UserWarning: \n",
            "\n",
            "`distplot` is a deprecated function and will be removed in seaborn v0.14.0.\n",
            "\n",
            "Please adapt your code to use either `displot` (a figure-level function with\n",
            "similar flexibility) or `histplot` (an axes-level function for histograms).\n",
            "\n",
            "For a guide to updating your code to use the new functions, please see\n",
            "https://gist.github.com/mwaskom/de44147ed2974457ad6372750bbe5751\n",
            "\n",
            "  sns.distplot(train_dataset.text.str.len())\n"
          ]
        },
        {
          "output_type": "execute_result",
          "data": {
            "text/plain": [
              "<Axes: xlabel='text', ylabel='Density'>"
            ]
          },
          "metadata": {},
          "execution_count": 11
        },
        {
          "output_type": "display_data",
          "data": {
            "text/plain": [
              "<Figure size 640x480 with 1 Axes>"
            ],
            "image/png": "[encoded data removed]"
          },
          "metadata": {}
        }
      ]
    },
    {
      "cell_type": "code",
      "source": [
        "#dropping unneccessary columns\n",
        "train_dataset = train_dataset.drop(['textID','selected_text'],axis=1)\n",
        "train_dataset.head()"
      ],
      "metadata": {
        "execution": {
          "iopub.status.busy": "2023-04-27T22:14:27.296142Z",
          "iopub.execute_input": "2023-04-27T22:14:27.296634Z",
          "iopub.status.idle": "2023-04-27T22:14:27.311032Z",
          "shell.execute_reply.started": "2023-04-27T22:14:27.296585Z",
          "shell.execute_reply": "2023-04-27T22:14:27.309437Z"
        },
        "trusted": true,
        "colab": {
          "base_uri": "https://localhost:8080/",
          "height": 206
        },
        "id": "NzZObUDTdp1z",
        "outputId": "1e8320cc-385e-44c2-8505-15e0ebffeec9"
      },
      "execution_count": null,
      "outputs": [
        {
          "output_type": "execute_result",
          "data": {
            "text/plain": [
              "                                                text sentiment\n",
              "0                I`d have responded, if I were going   neutral\n",
              "1      Sooo SAD I will miss you here in San Diego!!!  negative\n",
              "2                          my boss is bullying me...  negative\n",
              "3                     what interview! leave me alone  negative\n",
              "4   Sons of ****, why couldn`t they put them on t...  negative"
            ],
            "text/html": [
              "\n",
              "  <div id=\"df-dc85cfdc-999d-463f-aa78-190e405eb66d\" class=\"colab-df-container\">\n",
              "    <div>\n",
              "<style scoped>\n",
              "    .dataframe tbody tr th:only-of-type {\n",
              "        vertical-align: middle;\n",
              "    }\n",
              "\n",
              "    .dataframe tbody tr th {\n",
              "        vertical-align: top;\n",
              "    }\n",
              "\n",
              "    .dataframe thead th {\n",
              "        text-align: right;\n",
              "    }\n",
              "</style>\n",
              "<table border=\"1\" class=\"dataframe\">\n",
              "  <thead>\n",
              "    <tr style=\"text-align: right;\">\n",
              "      <th></th>\n",
              "      <th>text</th>\n",
              "      <th>sentiment</th>\n",
              "    </tr>\n",
              "  </thead>\n",
              "  <tbody>\n",
              "    <tr>\n",
              "      <th>0</th>\n",
              "      <td>I`d have responded, if I were going</td>\n",
              "      <td>neutral</td>\n",
              "    </tr>\n",
              "    <tr>\n",
              "      <th>1</th>\n",
              "      <td>Sooo SAD I will miss you here in San Diego!!!</td>\n",
              "      <td>negative</td>\n",
              "    </tr>\n",
              "    <tr>\n",
              "      <th>2</th>\n",
              "      <td>my boss is bullying me...</td>\n",
              "      <td>negative</td>\n",
              "    </tr>\n",
              "    <tr>\n",
              "      <th>3</th>\n",
              "      <td>what interview! leave me alone</td>\n",
              "      <td>negative</td>\n",
              "    </tr>\n",
              "    <tr>\n",
              "      <th>4</th>\n",
              "      <td>Sons of ****, why couldn`t they put them on t...</td>\n",
              "      <td>negative</td>\n",
              "    </tr>\n",
              "  </tbody>\n",
              "</table>\n",
              "</div>\n",
              "    <div class=\"colab-df-buttons\">\n",
              "\n",
              "  <div class=\"colab-df-container\">\n",
              "    <button class=\"colab-df-convert\" onclick=\"convertToInteractive('df-dc85cfdc-999d-463f-aa78-190e405eb66d')\"\n",
              "            title=\"Convert this dataframe to an interactive table.\"\n",
              "            style=\"display:none;\">\n",
              "\n",
              "  <svg xmlns=\"http://www.w3.org/2000/svg\" height=\"24px\" viewBox=\"0 -960 960 960\">\n",
              "    <path d=\"M120-120v-720h720v720H120Zm60-500h600v-160H180v160Zm220 220h160v-160H400v160Zm0 220h160v-160H400v160ZM180-400h160v-160H180v160Zm440 0h160v-160H620v160ZM180-180h160v-160H180v160Zm440 0h160v-160H620v160Z\"/>\n",
              "  </svg>\n",
              "    </button>\n",
              "\n",
              "  <style>\n",
              "    .colab-df-container {\n",
              "      display:flex;\n",
              "      gap: 12px;\n",
              "    }\n",
              "\n",
              "    .colab-df-convert {\n",
              "      background-color: #E8F0FE;\n",
              "      border: none;\n",
              "      border-radius: 50%;\n",
              "      cursor: pointer;\n",
              "      display: none;\n",
              "      fill: #1967D2;\n",
              "      height: 32px;\n",
              "      padding: 0 0 0 0;\n",
              "      width: 32px;\n",
              "    }\n",
              "\n",
              "    .colab-df-convert:hover {\n",
              "      background-color: #E2EBFA;\n",
              "      box-shadow: 0px 1px 2px rgba(60, 64, 67, 0.3), 0px 1px 3px 1px rgba(60, 64, 67, 0.15);\n",
              "      fill: #174EA6;\n",
              "    }\n",
              "\n",
              "    .colab-df-buttons div {\n",
              "      margin-bottom: 4px;\n",
              "    }\n",
              "\n",
              "    [theme=dark] .colab-df-convert {\n",
              "      background-color: #3B4455;\n",
              "      fill: #D2E3FC;\n",
              "    }\n",
              "\n",
              "    [theme=dark] .colab-df-convert:hover {\n",
              "      background-color: #434B5C;\n",
              "      box-shadow: 0px 1px 3px 1px rgba(0, 0, 0, 0.15);\n",
              "      filter: drop-shadow(0px 1px 2px rgba(0, 0, 0, 0.3));\n",
              "      fill: #FFFFFF;\n",
              "    }\n",
              "  </style>\n",
              "\n",
              "    <script>\n",
              "      const buttonEl =\n",
              "        document.querySelector('#df-dc85cfdc-999d-463f-aa78-190e405eb66d button.colab-df-convert');\n",
              "      buttonEl.style.display =\n",
              "        google.colab.kernel.accessAllowed ? 'block' : 'none';\n",
              "\n",
              "      async function convertToInteractive(key) {\n",
              "        const element = document.querySelector('#df-dc85cfdc-999d-463f-aa78-190e405eb66d');\n",
              "        const dataTable =\n",
              "          await google.colab.kernel.invokeFunction('convertToInteractive',\n",
              "                                                    [key], {});\n",
              "        if (!dataTable) return;\n",
              "\n",
              "        const docLinkHtml = 'Like what you see? Visit the ' +\n",
              "          '<a target=\"_blank\" href=https://colab.research.google.com/notebooks/data_table.ipynb>data table notebook</a>'\n",
              "          + ' to learn more about interactive tables.';\n",
              "        element.innerHTML = '';\n",
              "        dataTable['output_type'] = 'display_data';\n",
              "        await google.colab.output.renderOutput(dataTable, element);\n",
              "        const docLink = document.createElement('div');\n",
              "        docLink.innerHTML = docLinkHtml;\n",
              "        element.appendChild(docLink);\n",
              "      }\n",
              "    </script>\n",
              "  </div>\n",
              "\n",
              "\n",
              "<div id=\"df-d770e53e-ff97-4658-bb30-feee8a26bf01\">\n",
              "  <button class=\"colab-df-quickchart\" onclick=\"quickchart('df-d770e53e-ff97-4658-bb30-feee8a26bf01')\"\n",
              "            title=\"Suggest charts\"\n",
              "            style=\"display:none;\">\n",
              "\n",
              "<svg xmlns=\"http://www.w3.org/2000/svg\" height=\"24px\"viewBox=\"0 0 24 24\"\n",
              "     width=\"24px\">\n",
              "    <g>\n",
              "        <path d=\"M19 3H5c-1.1 0-2 .9-2 2v14c0 1.1.9 2 2 2h14c1.1 0 2-.9 2-2V5c0-1.1-.9-2-2-2zM9 17H7v-7h2v7zm4 0h-2V7h2v10zm4 0h-2v-4h2v4z\"/>\n",
              "    </g>\n",
              "</svg>\n",
              "  </button>\n",
              "\n",
              "<style>\n",
              "  .colab-df-quickchart {\n",
              "      --bg-color: #E8F0FE;\n",
              "      --fill-color: #1967D2;\n",
              "      --hover-bg-color: #E2EBFA;\n",
              "      --hover-fill-color: #174EA6;\n",
              "      --disabled-fill-color: #AAA;\n",
              "      --disabled-bg-color: #DDD;\n",
              "  }\n",
              "\n",
              "  [theme=dark] .colab-df-quickchart {\n",
              "      --bg-color: #3B4455;\n",
              "      --fill-color: #D2E3FC;\n",
              "      --hover-bg-color: #434B5C;\n",
              "      --hover-fill-color: #FFFFFF;\n",
              "      --disabled-bg-color: #3B4455;\n",
              "      --disabled-fill-color: #666;\n",
              "  }\n",
              "\n",
              "  .colab-df-quickchart {\n",
              "    background-color: var(--bg-color);\n",
              "    border: none;\n",
              "    border-radius: 50%;\n",
              "    cursor: pointer;\n",
              "    display: none;\n",
              "    fill: var(--fill-color);\n",
              "    height: 32px;\n",
              "    padding: 0;\n",
              "    width: 32px;\n",
              "  }\n",
              "\n",
              "  .colab-df-quickchart:hover {\n",
              "    background-color: var(--hover-bg-color);\n",
              "    box-shadow: 0 1px 2px rgba(60, 64, 67, 0.3), 0 1px 3px 1px rgba(60, 64, 67, 0.15);\n",
              "    fill: var(--button-hover-fill-color);\n",
              "  }\n",
              "\n",
              "  .colab-df-quickchart-complete:disabled,\n",
              "  .colab-df-quickchart-complete:disabled:hover {\n",
              "    background-color: var(--disabled-bg-color);\n",
              "    fill: var(--disabled-fill-color);\n",
              "    box-shadow: none;\n",
              "  }\n",
              "\n",
              "  .colab-df-spinner {\n",
              "    border: 2px solid var(--fill-color);\n",
              "    border-color: transparent;\n",
              "    border-bottom-color: var(--fill-color);\n",
              "    animation:\n",
              "      spin 1s steps(1) infinite;\n",
              "  }\n",
              "\n",
              "  @keyframes spin {\n",
              "    0% {\n",
              "      border-color: transparent;\n",
              "      border-bottom-color: var(--fill-color);\n",
              "      border-left-color: var(--fill-color);\n",
              "    }\n",
              "    20% {\n",
              "      border-color: transparent;\n",
              "      border-left-color: var(--fill-color);\n",
              "      border-top-color: var(--fill-color);\n",
              "    }\n",
              "    30% {\n",
              "      border-color: transparent;\n",
              "      border-left-color: var(--fill-color);\n",
              "      border-top-color: var(--fill-color);\n",
              "      border-right-color: var(--fill-color);\n",
              "    }\n",
              "    40% {\n",
              "      border-color: transparent;\n",
              "      border-right-color: var(--fill-color);\n",
              "      border-top-color: var(--fill-color);\n",
              "    }\n",
              "    60% {\n",
              "      border-color: transparent;\n",
              "      border-right-color: var(--fill-color);\n",
              "    }\n",
              "    80% {\n",
              "      border-color: transparent;\n",
              "      border-right-color: var(--fill-color);\n",
              "      border-bottom-color: var(--fill-color);\n",
              "    }\n",
              "    90% {\n",
              "      border-color: transparent;\n",
              "      border-bottom-color: var(--fill-color);\n",
              "    }\n",
              "  }\n",
              "</style>\n",
              "\n",
              "  <script>\n",
              "    async function quickchart(key) {\n",
              "      const quickchartButtonEl =\n",
              "        document.querySelector('#' + key + ' button');\n",
              "      quickchartButtonEl.disabled = true;  // To prevent multiple clicks.\n",
              "      quickchartButtonEl.classList.add('colab-df-spinner');\n",
              "      try {\n",
              "        const charts = await google.colab.kernel.invokeFunction(\n",
              "            'suggestCharts', [key], {});\n",
              "      } catch (error) {\n",
              "        console.error('Error during call to suggestCharts:', error);\n",
              "      }\n",
              "      quickchartButtonEl.classList.remove('colab-df-spinner');\n",
              "      quickchartButtonEl.classList.add('colab-df-quickchart-complete');\n",
              "    }\n",
              "    (() => {\n",
              "      let quickchartButtonEl =\n",
              "        document.querySelector('#df-d770e53e-ff97-4658-bb30-feee8a26bf01 button');\n",
              "      quickchartButtonEl.style.display =\n",
              "        google.colab.kernel.accessAllowed ? 'block' : 'none';\n",
              "    })();\n",
              "  </script>\n",
              "</div>\n",
              "\n",
              "    </div>\n",
              "  </div>\n"
            ]
          },
          "metadata": {},
          "execution_count": 12
        }
      ]
    },
    {
      "cell_type": "markdown",
      "source": [
        "**Tokenisation**"
      ],
      "metadata": {
        "id": "uD6ZA_Lrdp11"
      }
    },
    {
      "cell_type": "code",
      "source": [
        "#converting data in text column to string\n",
        "train_dataset.text=train_dataset.text.astype(str)\n",
        "train_dataset.text = train_dataset.text.str.lower()\n",
        "#cleaning more\n",
        "train_dataset['text'] = train_dataset['text'].apply((lambda x: re.sub('[^a-zA-z0-9\\s]','',x)))\n"
      ],
      "metadata": {
        "execution": {
          "iopub.status.busy": "2023-04-27T22:14:59.867756Z",
          "iopub.execute_input": "2023-04-27T22:14:59.868217Z",
          "iopub.status.idle": "2023-04-27T22:15:00.050026Z",
          "shell.execute_reply.started": "2023-04-27T22:14:59.868177Z",
          "shell.execute_reply": "2023-04-27T22:15:00.049042Z"
        },
        "trusted": true,
        "id": "yrfFH5Tudp14"
      },
      "execution_count": null,
      "outputs": []
    },
    {
      "cell_type": "code",
      "source": [
        "train_dataset.groupby('sentiment').count().plot.bar(color='red')\n"
      ],
      "metadata": {
        "execution": {
          "iopub.status.busy": "2023-04-27T22:15:04.988366Z",
          "iopub.execute_input": "2023-04-27T22:15:04.988822Z",
          "iopub.status.idle": "2023-04-27T22:15:05.156872Z",
          "shell.execute_reply.started": "2023-04-27T22:15:04.988782Z",
          "shell.execute_reply": "2023-04-27T22:15:05.155490Z"
        },
        "trusted": true,
        "colab": {
          "base_uri": "https://localhost:8080/",
          "height": 513
        },
        "id": "_vywKTAPdp15",
        "outputId": "2228e5be-c193-4371-edc8-542c4f8c3a61"
      },
      "execution_count": null,
      "outputs": [
        {
          "output_type": "execute_result",
          "data": {
            "text/plain": [
              "<Axes: xlabel='sentiment'>"
            ]
          },
          "metadata": {},
          "execution_count": 39
        },
        {
          "output_type": "display_data",
          "data": {
            "text/plain": [
              "<Figure size 640x480 with 1 Axes>"
            ],
            "image/png": "[encoded data removed]"
          },
          "metadata": {}
        }
      ]
    },
    {
      "cell_type": "code",
      "source": [
        "max_features = 5000\n",
        "# removing unneccessary punctuations while tokenizing\n",
        "tokenizer = Tokenizer(num_words= max_features, oov_token='OOV',filters='!\"#$%&()*+,-./:;<=>@[\\]^_`{|}~')\n",
        "tokenizer.fit_on_texts(train_dataset['text'].values)\n",
        "features = tokenizer.texts_to_sequences(train_dataset['text'].values)\n",
        "features = pad_sequences(features,padding='post')\n"
      ],
      "metadata": {
        "execution": {
          "iopub.status.busy": "2023-04-27T22:15:11.720370Z",
          "iopub.execute_input": "2023-04-27T22:15:11.720854Z",
          "iopub.status.idle": "2023-04-27T22:15:12.837996Z",
          "shell.execute_reply.started": "2023-04-27T22:15:11.720809Z",
          "shell.execute_reply": "2023-04-27T22:15:12.836566Z"
        },
        "trusted": true,
        "id": "KHJ0vvSydp16"
      },
      "execution_count": null,
      "outputs": []
    },
    {
      "cell_type": "code",
      "source": [
        "max_features = 5000\n",
        "# removing unneccessary punctuations while tokenizing\n",
        "tokenizer2 = Tokenizer(num_words= max_features, oov_token='OOV',filters='!\"#$%&()*+,-./:;<=>@[\\]^_`{|}~')\n",
        "tokenizer2.fit_on_texts(train_dataset_without_neutral['text'].values)\n",
        "features2 = tokenizer2.texts_to_sequences(train_dataset_without_neutral['text'].values)\n",
        "features2 = pad_sequences(features2,padding='post')"
      ],
      "metadata": {
        "execution": {
          "iopub.status.busy": "2023-04-27T22:15:16.363780Z",
          "iopub.execute_input": "2023-04-27T22:15:16.364249Z",
          "iopub.status.idle": "2023-04-27T22:15:17.041008Z",
          "shell.execute_reply.started": "2023-04-27T22:15:16.364209Z",
          "shell.execute_reply": "2023-04-27T22:15:17.039524Z"
        },
        "trusted": true,
        "id": "x4rep6pfdp17"
      },
      "execution_count": null,
      "outputs": []
    },
    {
      "cell_type": "code",
      "source": [
        "#getting numerical data for labels\n",
        "labels = pd.get_dummies(train_dataset['sentiment']).values\n",
        "X_train, X_val, Y_train, Y_val = train_test_split(features,labels, test_size = 0.33, random_state = 42)\n",
        "X_train1, X_val1, Y_train1, Y_val1 = train_test_split(features,labels, test_size = 0.33, random_state = 42)\n",
        "\n",
        "print(\"Input training features and label shape are {},{}\".format(X_train.shape,Y_train.shape))\n",
        "print(\"Input validation features and label shape are {}, {}\".format(X_val.shape,Y_val.shape))\n",
        "\n",
        "print(\"Input training features and label shape are {},{}\".format(X_train1.shape,Y_train1.shape))\n",
        "print(\"Input validation features and label shape are {}, {}\".format(X_val1.shape,Y_val1.shape))"
      ],
      "metadata": {
        "execution": {
          "iopub.status.busy": "2023-04-27T22:15:21.703182Z",
          "iopub.execute_input": "2023-04-27T22:15:21.703643Z",
          "iopub.status.idle": "2023-04-27T22:15:21.733105Z",
          "shell.execute_reply.started": "2023-04-27T22:15:21.703602Z",
          "shell.execute_reply": "2023-04-27T22:15:21.731789Z"
        },
        "trusted": true,
        "colab": {
          "base_uri": "https://localhost:8080/"
        },
        "id": "sVJDIjCMdp18",
        "outputId": "ea14ad61-c20b-4da7-e0ff-274ef124618b"
      },
      "execution_count": null,
      "outputs": [
        {
          "output_type": "stream",
          "name": "stdout",
          "text": [
            "Input training features and label shape are (18412, 34),(18412, 3)\n",
            "Input validation features and label shape are (9069, 34), (9069, 3)\n",
            "Input training features and label shape are (18412, 34),(18412, 3)\n",
            "Input validation features and label shape are (9069, 34), (9069, 3)\n"
          ]
        }
      ]
    },
    {
      "cell_type": "markdown",
      "source": [
        "**LSTM**"
      ],
      "metadata": {
        "id": "fwbFbo_Mdp1-"
      }
    },
    {
      "cell_type": "code",
      "source": [
        "vocab_size = len(tokenizer.word_index)+1 # 1 for that extra OOV\n"
      ],
      "metadata": {
        "execution": {
          "iopub.status.busy": "2023-04-27T22:21:02.631649Z",
          "iopub.execute_input": "2023-04-27T22:21:02.632121Z",
          "iopub.status.idle": "2023-04-27T22:21:02.637834Z",
          "shell.execute_reply.started": "2023-04-27T22:21:02.632081Z",
          "shell.execute_reply": "2023-04-27T22:21:02.636581Z"
        },
        "trusted": true,
        "id": "8iYluGQndp2C"
      },
      "execution_count": null,
      "outputs": []
    },
    {
      "cell_type": "code",
      "source": [
        "# main model\n",
        "LSTM_model = Sequential()\n",
        "LSTM_model.add(Embedding(vocab_size,100,input_length = features2.shape[1]))\n",
        "LSTM_model.add(LSTM (100,return_sequences=True,dropout=0.2,recurrent_dropout=0.2, kernel_regularizer=l2(0.1)))\n",
        "LSTM_model.add(TimeDistributed(Dense(100,activation='relu')))\n",
        "LSTM_model.add(SpatialDropout1D(0.4))\n",
        "LSTM_model.add(Flatten())\n",
        "LSTM_model.add(Dense(2,activation='softmax'))\n",
        "LSTM_model.compile(loss='binary_crossentropy',optimizer='adam', metrics=['accuracy'])"
      ],
      "metadata": {
        "execution": {
          "iopub.status.busy": "2023-04-27T22:21:02.839395Z",
          "iopub.execute_input": "2023-04-27T22:21:02.839871Z",
          "iopub.status.idle": "2023-04-27T22:21:03.288809Z",
          "shell.execute_reply.started": "2023-04-27T22:21:02.839828Z",
          "shell.execute_reply": "2023-04-27T22:21:03.286982Z"
        },
        "trusted": true,
        "id": "W-SFrUtxdp2D"
      },
      "execution_count": null,
      "outputs": []
    },
    {
      "cell_type": "code",
      "source": [
        "LSTM_model.summary()\n"
      ],
      "metadata": {
        "execution": {
          "iopub.status.busy": "2023-04-27T22:21:03.291176Z",
          "iopub.execute_input": "2023-04-27T22:21:03.291604Z",
          "iopub.status.idle": "2023-04-27T22:21:03.329635Z",
          "shell.execute_reply.started": "2023-04-27T22:21:03.291560Z",
          "shell.execute_reply": "2023-04-27T22:21:03.327942Z"
        },
        "trusted": true,
        "colab": {
          "base_uri": "https://localhost:8080/"
        },
        "id": "m6GEQUfGdp2E",
        "outputId": "7129f882-e495-40e6-ecf2-16529b84a0b9"
      },
      "execution_count": null,
      "outputs": [
        {
          "output_type": "stream",
          "name": "stdout",
          "text": [
            "Model: \"sequential_6\"\n",
            "_________________________________________________________________\n",
            " Layer (type)                Output Shape              Param #   \n",
            "=================================================================\n",
            " embedding_6 (Embedding)     (None, 33, 100)           2873100   \n",
            "                                                                 \n",
            " lstm_3 (LSTM)               (None, 33, 100)           80400     \n",
            "                                                                 \n",
            " time_distributed_5 (TimeDi  (None, 33, 100)           10100     \n",
            " stributed)                                                      \n",
            "                                                                 \n",
            " spatial_dropout1d_5 (Spati  (None, 33, 100)           0         \n",
            " alDropout1D)                                                    \n",
            "                                                                 \n",
            " flatten_5 (Flatten)         (None, 3300)              0         \n",
            "                                                                 \n",
            " dense_11 (Dense)            (None, 2)                 6602      \n",
            "                                                                 \n",
            "=================================================================\n",
            "Total params: 2970202 (11.33 MB)\n",
            "Trainable params: 2970202 (11.33 MB)\n",
            "Non-trainable params: 0 (0.00 Byte)\n",
            "_________________________________________________________________\n"
          ]
        }
      ]
    },
    {
      "cell_type": "code",
      "source": [
        "batch_size = 256\n",
        "LSTM_model_history = LSTM_model.fit(X_train1,Y_train1, epochs = 6, batch_size=batch_size, verbose=1, validation_data=(X_val1,Y_val1))\n"
      ],
      "metadata": {
        "execution": {
          "iopub.status.busy": "2023-04-27T22:21:12.543362Z",
          "iopub.execute_input": "2023-04-27T22:21:12.543805Z",
          "iopub.status.idle": "2023-04-27T22:21:47.610231Z",
          "shell.execute_reply.started": "2023-04-27T22:21:12.543768Z",
          "shell.execute_reply": "2023-04-27T22:21:47.609124Z"
        },
        "trusted": true,
        "colab": {
          "base_uri": "https://localhost:8080/"
        },
        "id": "cpAjwFnmdp2G",
        "outputId": "811eaae6-8b89-4d52-f2e5-1bc7de71293c"
      },
      "execution_count": null,
      "outputs": [
        {
          "output_type": "stream",
          "name": "stdout",
          "text": [
            "Epoch 1/6\n",
            "43/43 [==============================] - 39s 732ms/step - loss: 19.0371 - accuracy: 0.6090 - val_loss: 8.7792 - val_accuracy: 0.7954\n",
            "Epoch 2/6\n",
            "43/43 [==============================] - 32s 759ms/step - loss: 4.6424 - accuracy: 0.8564 - val_loss: 2.0274 - val_accuracy: 0.8328\n",
            "Epoch 3/6\n",
            "43/43 [==============================] - 31s 715ms/step - loss: 1.0385 - accuracy: 0.9052 - val_loss: 0.6211 - val_accuracy: 0.8498\n",
            "Epoch 4/6\n",
            "43/43 [==============================] - 32s 750ms/step - loss: 0.3404 - accuracy: 0.9177 - val_loss: 0.4408 - val_accuracy: 0.8474\n",
            "Epoch 5/6\n",
            "43/43 [==============================] - 33s 772ms/step - loss: 0.2168 - accuracy: 0.9317 - val_loss: 0.4509 - val_accuracy: 0.8426\n",
            "Epoch 6/6\n",
            "43/43 [==============================] - 31s 720ms/step - loss: 0.1765 - accuracy: 0.9435 - val_loss: 0.4040 - val_accuracy: 0.8441\n"
          ]
        }
      ]
    },
    {
      "cell_type": "code",
      "source": [
        "from sklearn.metrics import accuracy_score, confusion_matrix, f1_score, recall_score, precision_score, roc_auc_score, cohen_kappa_score, matthews_corrcoef\n",
        "# Model Prediction\n",
        "y_pred_lstm = LSTM_model.predict(X_val1)\n",
        "y_pred_lstm_binary = (y_pred_lstm.argmax(axis=1))\n",
        "\n",
        "# Accuracy\n",
        "accuracy_lstm = accuracy_score(Y_val1.argmax(axis=1), y_pred_lstm_binary)\n",
        "print(f\"Accuracy: {accuracy_lstm}\")\n",
        "\n",
        "# Recall\n",
        "recall_lstm = recall_score(Y_val1.argmax(axis=1), y_pred_lstm_binary, average='weighted')  # Use average='weighted' for multiclass\n",
        "print(f\"Recall: {recall_lstm}\")\n",
        "\n",
        "# Precision\n",
        "precision_lstm = precision_score(Y_val1.argmax(axis=1), y_pred_lstm_binary, average='weighted')  # Use average='weighted' for multiclass\n",
        "print(f\"Precision: {precision_lstm}\")\n",
        "\n",
        "# F1 Score\n",
        "f1_lstm = f1_score(Y_val1.argmax(axis=1), y_pred_lstm_binary, average='weighted')  # Use average='weighted' for multiclass\n",
        "print(f\"F1 Score: {f1_lstm}\")\n",
        "\n",
        "# AUC (Area Under the Curve)\n",
        "auc_lstm = roc_auc_score(Y_val1, y_pred_lstm, multi_class='ovr')  # Use multi_class='ovr' for multiclass\n",
        "print(f\"AUC: {auc_lstm}\")\n",
        "\n",
        "# Kappa\n",
        "kappa_lstm = cohen_kappa_score(Y_val1.argmax(axis=1), y_pred_lstm_binary)\n",
        "print(f\"Kappa: {kappa_lstm}\")\n",
        "\n",
        "# MCC (Matthews Correlation Coefficient)\n",
        "mcc_lstm = matthews_corrcoef(Y_val1.argmax(axis=1), y_pred_lstm_binary)\n",
        "print(f\"MCC: {mcc_lstm}\")"
      ],
      "metadata": {
        "colab": {
          "base_uri": "https://localhost:8080/"
        },
        "id": "FLtFFUg4hcnr",
        "outputId": "26a2c47d-34b5-4872-a0a0-02a4be351adf"
      },
      "execution_count": null,
      "outputs": [
        {
          "output_type": "stream",
          "name": "stdout",
          "text": [
            "169/169 [==============================] - 4s 23ms/step\n",
            "Accuracy: 0.8440740740740741\n",
            "Recall: 0.8440740740740741\n",
            "Precision: 0.8454417269909896\n",
            "F1 Score: 0.8440887043235095\n",
            "AUC: 0.9240667877285786\n",
            "Kappa: 0.6883915788694566\n",
            "MCC: 0.689483318568866\n"
          ]
        }
      ]
    },
    {
      "cell_type": "code",
      "source": [
        "\n",
        "plt.plot(LSTM_model_history.history['accuracy'])\n",
        "plt.plot(LSTM_model_history.history['val_accuracy'])\n",
        "plt.title('model accuracy')\n",
        "plt.ylabel('accuracy')\n",
        "plt.xlabel('epoch')\n",
        "plt.legend(['train', 'test'], loc='upper left')\n",
        "plt.show()"
      ],
      "metadata": {
        "execution": {
          "iopub.status.busy": "2023-04-27T22:21:47.614202Z",
          "iopub.execute_input": "2023-04-27T22:21:47.614999Z",
          "iopub.status.idle": "2023-04-27T22:21:47.784092Z",
          "shell.execute_reply.started": "2023-04-27T22:21:47.614955Z",
          "shell.execute_reply": "2023-04-27T22:21:47.782903Z"
        },
        "trusted": true,
        "colab": {
          "base_uri": "https://localhost:8080/",
          "height": 472
        },
        "id": "F4GuSE3Ldp2H",
        "outputId": "b6493af0-46ab-4755-cf09-ca9926b01747"
      },
      "execution_count": null,
      "outputs": [
        {
          "output_type": "display_data",
          "data": {
            "text/plain": [
              "<Figure size 640x480 with 1 Axes>"
            ],
            "image/png": "[encoded data removed]"
          },
          "metadata": {}
        }
      ]
    },
    {
      "cell_type": "code",
      "source": [
        "# summarize history for loss\n",
        "plt.plot(LSTM_model_history.history['loss'])\n",
        "plt.plot(LSTM_model_history.history['val_loss'])\n",
        "plt.title('model loss')\n",
        "plt.ylabel('loss')\n",
        "plt.xlabel('epoch')\n",
        "plt.legend(['train', 'test'], loc='upper left')\n",
        "plt.show()"
      ],
      "metadata": {
        "execution": {
          "iopub.status.busy": "2023-04-27T22:21:47.785714Z",
          "iopub.execute_input": "2023-04-27T22:21:47.786180Z",
          "iopub.status.idle": "2023-04-27T22:21:47.961525Z",
          "shell.execute_reply.started": "2023-04-27T22:21:47.786132Z",
          "shell.execute_reply": "2023-04-27T22:21:47.960199Z"
        },
        "trusted": true,
        "colab": {
          "base_uri": "https://localhost:8080/",
          "height": 472
        },
        "id": "PpB5cQJodp2L",
        "outputId": "969460d0-cd1b-4c57-bf8b-91f896f4af3c"
      },
      "execution_count": null,
      "outputs": [
        {
          "output_type": "display_data",
          "data": {
            "text/plain": [
              "<Figure size 640x480 with 1 Axes>"
            ],
            "image/png": "[encoded data removed]"
          },
          "metadata": {}
        }
      ]
    },
    {
      "cell_type": "markdown",
      "source": [
        "**GRU**"
      ],
      "metadata": {
        "id": "AxqkocMWXuQs"
      }
    },
    {
      "cell_type": "code",
      "source": [
        "from keras.layers import GRU\n",
        "\n",
        "# main model\n",
        "GRU_model = Sequential()\n",
        "GRU_model.add(Embedding(vocab_size, 100, input_length=features2.shape[1]))\n",
        "GRU_model.add(GRU(100, return_sequences=True, dropout=0.2, recurrent_dropout=0.2, kernel_regularizer=l2(0.1)))\n",
        "GRU_model.add(TimeDistributed(Dense(100, activation='relu')))\n",
        "GRU_model.add(SpatialDropout1D(0.4))\n",
        "GRU_model.add(Flatten())\n",
        "GRU_model.add(Dense(2, activation='softmax'))\n",
        "GRU_model.compile(loss='binary_crossentropy', optimizer='adam', metrics=['accuracy'])\n"
      ],
      "metadata": {
        "id": "QjbCGyxgd3KL"
      },
      "execution_count": null,
      "outputs": []
    },
    {
      "cell_type": "code",
      "source": [
        "GRU_model.summary()"
      ],
      "metadata": {
        "colab": {
          "base_uri": "https://localhost:8080/"
        },
        "id": "NBbnaRfmjGPG",
        "outputId": "8870ca79-1535-47da-aa43-40d7cd74cae8"
      },
      "execution_count": null,
      "outputs": [
        {
          "output_type": "stream",
          "name": "stdout",
          "text": [
            "Model: \"sequential_3\"\n",
            "_________________________________________________________________\n",
            " Layer (type)                Output Shape              Param #   \n",
            "=================================================================\n",
            " embedding_3 (Embedding)     (None, 33, 100)           2873100   \n",
            "                                                                 \n",
            " gru_2 (GRU)                 (None, 33, 100)           60600     \n",
            "                                                                 \n",
            " time_distributed_2 (TimeDi  (None, 33, 100)           10100     \n",
            " stributed)                                                      \n",
            "                                                                 \n",
            " spatial_dropout1d_2 (Spati  (None, 33, 100)           0         \n",
            " alDropout1D)                                                    \n",
            "                                                                 \n",
            " flatten_2 (Flatten)         (None, 3300)              0         \n",
            "                                                                 \n",
            " dense_5 (Dense)             (None, 2)                 6602      \n",
            "                                                                 \n",
            "=================================================================\n",
            "Total params: 2950402 (11.25 MB)\n",
            "Trainable params: 2950402 (11.25 MB)\n",
            "Non-trainable params: 0 (0.00 Byte)\n",
            "_________________________________________________________________\n"
          ]
        }
      ]
    },
    {
      "cell_type": "code",
      "source": [
        "batch_size = 256\n",
        "GRU_model_history = GRU_model.fit(X_train1,Y_train1, epochs = 6, batch_size=batch_size, verbose=1, validation_data=(X_val1,Y_val1))\n"
      ],
      "metadata": {
        "colab": {
          "base_uri": "https://localhost:8080/"
        },
        "id": "qqY14W6cjJWm",
        "outputId": "1208bf62-8ecb-4a36-8b6d-17c14ef513f7"
      },
      "execution_count": null,
      "outputs": [
        {
          "output_type": "stream",
          "name": "stdout",
          "text": [
            "Epoch 1/6\n",
            "43/43 [==============================] - 59s 1s/step - loss: 18.9210 - accuracy: 0.5931 - val_loss: 9.6443 - val_accuracy: 0.7780\n",
            "Epoch 2/6\n",
            "43/43 [==============================] - 41s 973ms/step - loss: 5.5084 - accuracy: 0.8376 - val_loss: 2.6513 - val_accuracy: 0.8513\n",
            "Epoch 3/6\n",
            "43/43 [==============================] - 28s 655ms/step - loss: 1.4616 - accuracy: 0.9048 - val_loss: 0.8573 - val_accuracy: 0.8402\n",
            "Epoch 4/6\n",
            "43/43 [==============================] - 27s 629ms/step - loss: 0.4605 - accuracy: 0.9217 - val_loss: 0.4935 - val_accuracy: 0.8431\n",
            "Epoch 5/6\n",
            "43/43 [==============================] - 27s 631ms/step - loss: 0.2570 - accuracy: 0.9256 - val_loss: 0.4117 - val_accuracy: 0.8506\n",
            "Epoch 6/6\n",
            "43/43 [==============================] - 29s 672ms/step - loss: 0.1934 - accuracy: 0.9407 - val_loss: 0.4465 - val_accuracy: 0.8402\n"
          ]
        }
      ]
    },
    {
      "cell_type": "code",
      "source": [
        "# Model Prediction\n",
        "y_pred_GRU = GRU_model.predict(X_val1)\n",
        "y_pred_GRU_binary = (y_pred_GRU.argmax(axis=1))\n",
        "\n",
        "\n",
        "# Accuracy\n",
        "accuracy_GRU = accuracy_score(Y_val1.argmax(axis=1), y_pred_GRU_binary)\n",
        "print(f\"Accuracy: {accuracy_GRU}\")\n",
        "\n",
        "# Recall\n",
        "recall_GRU = recall_score(Y_val1.argmax(axis=1), y_pred_GRU_binary, average='weighted')  # Use average='weighted' for multiclass\n",
        "print(f\"Recall: {recall_GRU}\")\n",
        "\n",
        "# Precision\n",
        "precision_GRU = precision_score(Y_val1.argmax(axis=1), y_pred_GRU_binary, average='weighted')  # Use average='weighted' for multiclass\n",
        "print(f\"Precision: {precision_GRU}\")\n",
        "\n",
        "# F1 Score\n",
        "f1_GRU = f1_score(Y_val1.argmax(axis=1), y_pred_GRU_binary, average='weighted')  # Use average='weighted' for multiclass\n",
        "print(f\"F1 Score: {f1_GRU}\")\n",
        "\n",
        "# AUC (Area Under the Curve)\n",
        "auc_GRU = roc_auc_score(Y_val1, y_pred_GRU, multi_class='ovr')  # Use multi_class='ovr' for multiclass\n",
        "print(f\"AUC: {auc_GRU}\")\n",
        "\n",
        "# Kappa\n",
        "kappa_GRU = cohen_kappa_score(Y_val1.argmax(axis=1), y_pred_GRU_binary)\n",
        "print(f\"Kappa: {kappa_GRU}\")\n",
        "\n",
        "# MCC (Matthews Correlation Coefficient)\n",
        "mcc_GRU = matthews_corrcoef(Y_val1.argmax(axis=1), y_pred_GRU_binary)\n",
        "print(f\"MCC: {mcc_GRU}\")"
      ],
      "metadata": {
        "colab": {
          "base_uri": "https://localhost:8080/"
        },
        "id": "Ypg5EQlijUo0",
        "outputId": "bd2c8109-108b-4225-9bdf-cc5e56a63edd"
      },
      "execution_count": null,
      "outputs": [
        {
          "output_type": "stream",
          "name": "stdout",
          "text": [
            "169/169 [==============================] - 4s 21ms/step\n",
            "Accuracy: 0.8401851851851851\n",
            "Recall: 0.8401851851851851\n",
            "Precision: 0.8465101878475559\n",
            "F1 Score: 0.8398482090797148\n",
            "AUC: 0.9255772009982459\n",
            "Kappa: 0.6813438234638491\n",
            "MCC: 0.687006297729992\n"
          ]
        }
      ]
    },
    {
      "cell_type": "code",
      "source": [
        "\n",
        "plt.plot(GRU_model_history.history['accuracy'])\n",
        "plt.plot(GRU_model_history.history['val_accuracy'])\n",
        "plt.title('model accuracy')\n",
        "plt.ylabel('accuracy')\n",
        "plt.xlabel('epoch')\n",
        "plt.legend(['train', 'test'], loc='upper left')\n",
        "plt.show()"
      ],
      "metadata": {
        "colab": {
          "base_uri": "https://localhost:8080/",
          "height": 472
        },
        "id": "acK2FE_6kBT5",
        "outputId": "71f74ef8-4a02-47ad-f5eb-b86f953007d2"
      },
      "execution_count": null,
      "outputs": [
        {
          "output_type": "display_data",
          "data": {
            "text/plain": [
              "<Figure size 640x480 with 1 Axes>"
            ],
            "image/png": "[encoded data removed]"
          },
          "metadata": {}
        }
      ]
    },
    {
      "cell_type": "code",
      "source": [
        "# summarize history for loss\n",
        "plt.plot(GRU_model_history.history['loss'])\n",
        "plt.plot(GRU_model_history.history['val_loss'])\n",
        "plt.title('model loss')\n",
        "plt.ylabel('loss')\n",
        "plt.xlabel('epoch')\n",
        "plt.legend(['train', 'test'], loc='upper left')\n",
        "plt.show()"
      ],
      "metadata": {
        "colab": {
          "base_uri": "https://localhost:8080/",
          "height": 472
        },
        "id": "m1mTOdVckHxJ",
        "outputId": "86aed6f5-d67a-46f2-8509-5cfad854b059"
      },
      "execution_count": null,
      "outputs": [
        {
          "output_type": "display_data",
          "data": {
            "text/plain": [
              "<Figure size 640x480 with 1 Axes>"
            ],
            "image/png": "[encoded data removed]"
          },
          "metadata": {}
        }
      ]
    },
    {
      "cell_type": "code",
      "source": [],
      "metadata": {
        "id": "hJa1Ypkndp2P"
      },
      "execution_count": null,
      "outputs": []
    }
  ]
}